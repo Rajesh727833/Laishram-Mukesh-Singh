{
 "cells": [
  {
   "cell_type": "markdown",
   "id": "aa38cab3",
   "metadata": {},
   "source": [
    "# Use Random Forest to prepare a model on fraud data \n",
    "# treating those who have taxable_income <= 30000 as \"Risky\" and others are \"Good\""
   ]
  },
  {
   "cell_type": "code",
   "execution_count": 1,
   "id": "ad0d8bcc",
   "metadata": {},
   "outputs": [],
   "source": [
    "import pandas as pd\n",
    "import numpy as np\n",
    "import matplotlib.pyplot as plt\n",
    "import seaborn as sns\n",
    "# %matplotlib inline \n",
    "from sklearn.preprocessing import LabelEncoder   \n",
    "from sklearn.model_selection import train_test_split  \n",
    "from sklearn.tree import DecisionTreeClassifier    \n",
    "from sklearn.metrics import classification_report, confusion_matrix   \n",
    "from sklearn.tree import plot_tree\n",
    "import warnings\n",
    "warnings.filterwarnings('ignore')"
   ]
  },
  {
   "cell_type": "markdown",
   "id": "2bf8acb5",
   "metadata": {},
   "source": [
    "# Reading the dataset"
   ]
  },
  {
   "cell_type": "code",
   "execution_count": 2,
   "id": "9e4cf8b2",
   "metadata": {},
   "outputs": [
    {
     "data": {
      "text/html": [
       "<div>\n",
       "<style scoped>\n",
       "    .dataframe tbody tr th:only-of-type {\n",
       "        vertical-align: middle;\n",
       "    }\n",
       "\n",
       "    .dataframe tbody tr th {\n",
       "        vertical-align: top;\n",
       "    }\n",
       "\n",
       "    .dataframe thead th {\n",
       "        text-align: right;\n",
       "    }\n",
       "</style>\n",
       "<table border=\"1\" class=\"dataframe\">\n",
       "  <thead>\n",
       "    <tr style=\"text-align: right;\">\n",
       "      <th></th>\n",
       "      <th>Undergrad</th>\n",
       "      <th>Marital.Status</th>\n",
       "      <th>Taxable.Income</th>\n",
       "      <th>City.Population</th>\n",
       "      <th>Work.Experience</th>\n",
       "      <th>Urban</th>\n",
       "    </tr>\n",
       "  </thead>\n",
       "  <tbody>\n",
       "    <tr>\n",
       "      <th>0</th>\n",
       "      <td>NO</td>\n",
       "      <td>Single</td>\n",
       "      <td>68833</td>\n",
       "      <td>50047</td>\n",
       "      <td>10</td>\n",
       "      <td>YES</td>\n",
       "    </tr>\n",
       "    <tr>\n",
       "      <th>1</th>\n",
       "      <td>YES</td>\n",
       "      <td>Divorced</td>\n",
       "      <td>33700</td>\n",
       "      <td>134075</td>\n",
       "      <td>18</td>\n",
       "      <td>YES</td>\n",
       "    </tr>\n",
       "    <tr>\n",
       "      <th>2</th>\n",
       "      <td>NO</td>\n",
       "      <td>Married</td>\n",
       "      <td>36925</td>\n",
       "      <td>160205</td>\n",
       "      <td>30</td>\n",
       "      <td>YES</td>\n",
       "    </tr>\n",
       "    <tr>\n",
       "      <th>3</th>\n",
       "      <td>YES</td>\n",
       "      <td>Single</td>\n",
       "      <td>50190</td>\n",
       "      <td>193264</td>\n",
       "      <td>15</td>\n",
       "      <td>YES</td>\n",
       "    </tr>\n",
       "    <tr>\n",
       "      <th>4</th>\n",
       "      <td>NO</td>\n",
       "      <td>Married</td>\n",
       "      <td>81002</td>\n",
       "      <td>27533</td>\n",
       "      <td>28</td>\n",
       "      <td>NO</td>\n",
       "    </tr>\n",
       "  </tbody>\n",
       "</table>\n",
       "</div>"
      ],
      "text/plain": [
       "  Undergrad Marital.Status  Taxable.Income  City.Population  Work.Experience  \\\n",
       "0        NO         Single           68833            50047               10   \n",
       "1       YES       Divorced           33700           134075               18   \n",
       "2        NO        Married           36925           160205               30   \n",
       "3       YES         Single           50190           193264               15   \n",
       "4        NO        Married           81002            27533               28   \n",
       "\n",
       "  Urban  \n",
       "0   YES  \n",
       "1   YES  \n",
       "2   YES  \n",
       "3   YES  \n",
       "4    NO  "
      ]
     },
     "execution_count": 2,
     "metadata": {},
     "output_type": "execute_result"
    }
   ],
   "source": [
    "data = pd.read_csv(r'C:\\Users\\mukes\\OneDrive\\Desktop\\Data Science\\Assignments\\Random Forest\\Fraud_check.csv')\n",
    "data.head(5)"
   ]
  },
  {
   "cell_type": "markdown",
   "id": "18862ca0",
   "metadata": {},
   "source": [
    "# Exploring the dataset"
   ]
  },
  {
   "cell_type": "code",
   "execution_count": 3,
   "id": "40d4b53b",
   "metadata": {},
   "outputs": [
    {
     "data": {
      "text/plain": [
       "(600, 6)"
      ]
     },
     "execution_count": 3,
     "metadata": {},
     "output_type": "execute_result"
    }
   ],
   "source": [
    "data.shape"
   ]
  },
  {
   "cell_type": "markdown",
   "id": "8284d178",
   "metadata": {},
   "source": [
    "There are 600 instances and 6 variables"
   ]
  },
  {
   "cell_type": "code",
   "execution_count": 4,
   "id": "dfc6471e",
   "metadata": {},
   "outputs": [
    {
     "name": "stdout",
     "output_type": "stream",
     "text": [
      "<class 'pandas.core.frame.DataFrame'>\n",
      "RangeIndex: 600 entries, 0 to 599\n",
      "Data columns (total 6 columns):\n",
      " #   Column           Non-Null Count  Dtype \n",
      "---  ------           --------------  ----- \n",
      " 0   Undergrad        600 non-null    object\n",
      " 1   Marital.Status   600 non-null    object\n",
      " 2   Taxable.Income   600 non-null    int64 \n",
      " 3   City.Population  600 non-null    int64 \n",
      " 4   Work.Experience  600 non-null    int64 \n",
      " 5   Urban            600 non-null    object\n",
      "dtypes: int64(3), object(3)\n",
      "memory usage: 28.2+ KB\n"
     ]
    }
   ],
   "source": [
    "# checking summary\n",
    "data.info()"
   ]
  },
  {
   "cell_type": "markdown",
   "id": "9e61226d",
   "metadata": {},
   "source": [
    "There are no missing values"
   ]
  },
  {
   "cell_type": "code",
   "execution_count": 5,
   "id": "15f55895",
   "metadata": {},
   "outputs": [
    {
     "data": {
      "text/plain": [
       "False"
      ]
     },
     "execution_count": 5,
     "metadata": {},
     "output_type": "execute_result"
    }
   ],
   "source": [
    "# checking duplicates\n",
    "data.duplicated().any()"
   ]
  },
  {
   "cell_type": "markdown",
   "id": "83302d46",
   "metadata": {},
   "source": [
    "No duplicates found"
   ]
  },
  {
   "cell_type": "markdown",
   "id": "8ee4fa83",
   "metadata": {},
   "source": [
    "# 1. Categorical Variable"
   ]
  },
  {
   "cell_type": "code",
   "execution_count": 6,
   "id": "d13a3091",
   "metadata": {},
   "outputs": [
    {
     "name": "stdout",
     "output_type": "stream",
     "text": [
      "There are 3 categorical variables\n",
      "\n",
      "The categorical varaibles are :\n",
      "\n",
      " ['Undergrad', 'Marital.Status', 'Urban']\n"
     ]
    }
   ],
   "source": [
    "categorical = [var for var in data.columns if data[var].dtype=='O']\n",
    "\n",
    "print('There are {} categorical variables\\n'.format(len(categorical)))\n",
    "print('The categorical varaibles are :\\n\\n', categorical)"
   ]
  },
  {
   "cell_type": "code",
   "execution_count": 7,
   "id": "16ae82a9",
   "metadata": {},
   "outputs": [
    {
     "data": {
      "text/html": [
       "<div>\n",
       "<style scoped>\n",
       "    .dataframe tbody tr th:only-of-type {\n",
       "        vertical-align: middle;\n",
       "    }\n",
       "\n",
       "    .dataframe tbody tr th {\n",
       "        vertical-align: top;\n",
       "    }\n",
       "\n",
       "    .dataframe thead th {\n",
       "        text-align: right;\n",
       "    }\n",
       "</style>\n",
       "<table border=\"1\" class=\"dataframe\">\n",
       "  <thead>\n",
       "    <tr style=\"text-align: right;\">\n",
       "      <th></th>\n",
       "      <th>Undergrad</th>\n",
       "      <th>Marital.Status</th>\n",
       "      <th>Urban</th>\n",
       "    </tr>\n",
       "  </thead>\n",
       "  <tbody>\n",
       "    <tr>\n",
       "      <th>0</th>\n",
       "      <td>NO</td>\n",
       "      <td>Single</td>\n",
       "      <td>YES</td>\n",
       "    </tr>\n",
       "    <tr>\n",
       "      <th>1</th>\n",
       "      <td>YES</td>\n",
       "      <td>Divorced</td>\n",
       "      <td>YES</td>\n",
       "    </tr>\n",
       "    <tr>\n",
       "      <th>2</th>\n",
       "      <td>NO</td>\n",
       "      <td>Married</td>\n",
       "      <td>YES</td>\n",
       "    </tr>\n",
       "    <tr>\n",
       "      <th>3</th>\n",
       "      <td>YES</td>\n",
       "      <td>Single</td>\n",
       "      <td>YES</td>\n",
       "    </tr>\n",
       "    <tr>\n",
       "      <th>4</th>\n",
       "      <td>NO</td>\n",
       "      <td>Married</td>\n",
       "      <td>NO</td>\n",
       "    </tr>\n",
       "  </tbody>\n",
       "</table>\n",
       "</div>"
      ],
      "text/plain": [
       "  Undergrad Marital.Status Urban\n",
       "0        NO         Single   YES\n",
       "1       YES       Divorced   YES\n",
       "2        NO        Married   YES\n",
       "3       YES         Single   YES\n",
       "4        NO        Married    NO"
      ]
     },
     "execution_count": 7,
     "metadata": {},
     "output_type": "execute_result"
    }
   ],
   "source": [
    "data[categorical].head()"
   ]
  },
  {
   "cell_type": "code",
   "execution_count": 8,
   "id": "5d9f66aa",
   "metadata": {},
   "outputs": [
    {
     "name": "stdout",
     "output_type": "stream",
     "text": [
      "YES    312\n",
      "NO     288\n",
      "Name: Undergrad, dtype: int64\n",
      "Single      217\n",
      "Married     194\n",
      "Divorced    189\n",
      "Name: Marital.Status, dtype: int64\n",
      "YES    302\n",
      "NO     298\n",
      "Name: Urban, dtype: int64\n"
     ]
    }
   ],
   "source": [
    "# frequency counts of categorical variables\n",
    "col_names = ['Undergrad', 'Marital.Status', 'Urban']\n",
    "for col in col_names:\n",
    "    \n",
    "    print(data[col].value_counts())"
   ]
  },
  {
   "cell_type": "markdown",
   "id": "8e345925",
   "metadata": {},
   "source": [
    "# 2. Numerical Variable"
   ]
  },
  {
   "cell_type": "code",
   "execution_count": 9,
   "id": "e2a3137f",
   "metadata": {},
   "outputs": [
    {
     "name": "stdout",
     "output_type": "stream",
     "text": [
      "There are 3 numerical variables\n",
      "\n",
      "The numerical variables are : ['Taxable.Income', 'City.Population', 'Work.Experience']\n"
     ]
    }
   ],
   "source": [
    "numerical = [var for var in data.columns if data[var].dtype!='O']\n",
    "print('There are {} numerical variables\\n'.format(len(numerical)))\n",
    "print('The numerical variables are :', numerical)"
   ]
  },
  {
   "cell_type": "code",
   "execution_count": 10,
   "id": "8ed36d5d",
   "metadata": {},
   "outputs": [
    {
     "data": {
      "text/html": [
       "<div>\n",
       "<style scoped>\n",
       "    .dataframe tbody tr th:only-of-type {\n",
       "        vertical-align: middle;\n",
       "    }\n",
       "\n",
       "    .dataframe tbody tr th {\n",
       "        vertical-align: top;\n",
       "    }\n",
       "\n",
       "    .dataframe thead th {\n",
       "        text-align: right;\n",
       "    }\n",
       "</style>\n",
       "<table border=\"1\" class=\"dataframe\">\n",
       "  <thead>\n",
       "    <tr style=\"text-align: right;\">\n",
       "      <th></th>\n",
       "      <th>Taxable.Income</th>\n",
       "      <th>City.Population</th>\n",
       "      <th>Work.Experience</th>\n",
       "    </tr>\n",
       "  </thead>\n",
       "  <tbody>\n",
       "    <tr>\n",
       "      <th>0</th>\n",
       "      <td>68833</td>\n",
       "      <td>50047</td>\n",
       "      <td>10</td>\n",
       "    </tr>\n",
       "    <tr>\n",
       "      <th>1</th>\n",
       "      <td>33700</td>\n",
       "      <td>134075</td>\n",
       "      <td>18</td>\n",
       "    </tr>\n",
       "    <tr>\n",
       "      <th>2</th>\n",
       "      <td>36925</td>\n",
       "      <td>160205</td>\n",
       "      <td>30</td>\n",
       "    </tr>\n",
       "    <tr>\n",
       "      <th>3</th>\n",
       "      <td>50190</td>\n",
       "      <td>193264</td>\n",
       "      <td>15</td>\n",
       "    </tr>\n",
       "    <tr>\n",
       "      <th>4</th>\n",
       "      <td>81002</td>\n",
       "      <td>27533</td>\n",
       "      <td>28</td>\n",
       "    </tr>\n",
       "  </tbody>\n",
       "</table>\n",
       "</div>"
      ],
      "text/plain": [
       "   Taxable.Income  City.Population  Work.Experience\n",
       "0           68833            50047               10\n",
       "1           33700           134075               18\n",
       "2           36925           160205               30\n",
       "3           50190           193264               15\n",
       "4           81002            27533               28"
      ]
     },
     "execution_count": 10,
     "metadata": {},
     "output_type": "execute_result"
    }
   ],
   "source": [
    "data[numerical].head()"
   ]
  },
  {
   "cell_type": "markdown",
   "id": "f1d2b780",
   "metadata": {},
   "source": [
    "# Converting Categorial Variable to Numerical Variable"
   ]
  },
  {
   "cell_type": "code",
   "execution_count": 11,
   "id": "b03608c8",
   "metadata": {},
   "outputs": [
    {
     "data": {
      "text/html": [
       "<div>\n",
       "<style scoped>\n",
       "    .dataframe tbody tr th:only-of-type {\n",
       "        vertical-align: middle;\n",
       "    }\n",
       "\n",
       "    .dataframe tbody tr th {\n",
       "        vertical-align: top;\n",
       "    }\n",
       "\n",
       "    .dataframe thead th {\n",
       "        text-align: right;\n",
       "    }\n",
       "</style>\n",
       "<table border=\"1\" class=\"dataframe\">\n",
       "  <thead>\n",
       "    <tr style=\"text-align: right;\">\n",
       "      <th></th>\n",
       "      <th>Undergrad</th>\n",
       "      <th>Marital.Status</th>\n",
       "      <th>Taxable.Income</th>\n",
       "      <th>City.Population</th>\n",
       "      <th>Work.Experience</th>\n",
       "      <th>Urban</th>\n",
       "    </tr>\n",
       "  </thead>\n",
       "  <tbody>\n",
       "    <tr>\n",
       "      <th>0</th>\n",
       "      <td>0</td>\n",
       "      <td>2</td>\n",
       "      <td>68833</td>\n",
       "      <td>50047</td>\n",
       "      <td>10</td>\n",
       "      <td>1</td>\n",
       "    </tr>\n",
       "    <tr>\n",
       "      <th>1</th>\n",
       "      <td>1</td>\n",
       "      <td>0</td>\n",
       "      <td>33700</td>\n",
       "      <td>134075</td>\n",
       "      <td>18</td>\n",
       "      <td>1</td>\n",
       "    </tr>\n",
       "    <tr>\n",
       "      <th>2</th>\n",
       "      <td>0</td>\n",
       "      <td>1</td>\n",
       "      <td>36925</td>\n",
       "      <td>160205</td>\n",
       "      <td>30</td>\n",
       "      <td>1</td>\n",
       "    </tr>\n",
       "  </tbody>\n",
       "</table>\n",
       "</div>"
      ],
      "text/plain": [
       "   Undergrad  Marital.Status  Taxable.Income  City.Population  \\\n",
       "0          0               2           68833            50047   \n",
       "1          1               0           33700           134075   \n",
       "2          0               1           36925           160205   \n",
       "\n",
       "   Work.Experience  Urban  \n",
       "0               10      1  \n",
       "1               18      1  \n",
       "2               30      1  "
      ]
     },
     "execution_count": 11,
     "metadata": {},
     "output_type": "execute_result"
    }
   ],
   "source": [
    "from sklearn.preprocessing import LabelEncoder\n",
    "\n",
    "label_encoder = LabelEncoder()\n",
    "data['Undergrad'] = label_encoder.fit_transform(data['Undergrad'])\n",
    "data['Marital.Status'] = label_encoder.fit_transform(data['Marital.Status'])\n",
    "data['Urban'] = label_encoder.fit_transform(data['Urban'])\n",
    "data.head(3)"
   ]
  },
  {
   "cell_type": "code",
   "execution_count": 12,
   "id": "3df2f5c0",
   "metadata": {},
   "outputs": [
    {
     "data": {
      "text/plain": [
       "Index(['Undergrad', 'Marital.Status', 'Income', 'City.Population',\n",
       "       'Work.Experience', 'Urban'],\n",
       "      dtype='object')"
      ]
     },
     "execution_count": 12,
     "metadata": {},
     "output_type": "execute_result"
    }
   ],
   "source": [
    "# Renaming Taxable.Income to Income\n",
    "data.rename({'Taxable.Income': 'Income'},inplace=True, axis=1)\n",
    "data.columns"
   ]
  },
  {
   "cell_type": "code",
   "execution_count": 13,
   "id": "e6945870",
   "metadata": {},
   "outputs": [
    {
     "data": {
      "text/html": [
       "<div>\n",
       "<style scoped>\n",
       "    .dataframe tbody tr th:only-of-type {\n",
       "        vertical-align: middle;\n",
       "    }\n",
       "\n",
       "    .dataframe tbody tr th {\n",
       "        vertical-align: top;\n",
       "    }\n",
       "\n",
       "    .dataframe thead th {\n",
       "        text-align: right;\n",
       "    }\n",
       "</style>\n",
       "<table border=\"1\" class=\"dataframe\">\n",
       "  <thead>\n",
       "    <tr style=\"text-align: right;\">\n",
       "      <th></th>\n",
       "      <th>Undergrad</th>\n",
       "      <th>Marital.Status</th>\n",
       "      <th>Income</th>\n",
       "      <th>City.Population</th>\n",
       "      <th>Work.Experience</th>\n",
       "      <th>Urban</th>\n",
       "      <th>Result</th>\n",
       "    </tr>\n",
       "  </thead>\n",
       "  <tbody>\n",
       "    <tr>\n",
       "      <th>0</th>\n",
       "      <td>0</td>\n",
       "      <td>2</td>\n",
       "      <td>68833</td>\n",
       "      <td>50047</td>\n",
       "      <td>10</td>\n",
       "      <td>1</td>\n",
       "      <td>Good</td>\n",
       "    </tr>\n",
       "    <tr>\n",
       "      <th>1</th>\n",
       "      <td>1</td>\n",
       "      <td>0</td>\n",
       "      <td>33700</td>\n",
       "      <td>134075</td>\n",
       "      <td>18</td>\n",
       "      <td>1</td>\n",
       "      <td>Good</td>\n",
       "    </tr>\n",
       "  </tbody>\n",
       "</table>\n",
       "</div>"
      ],
      "text/plain": [
       "   Undergrad  Marital.Status  Income  City.Population  Work.Experience  Urban  \\\n",
       "0          0               2   68833            50047               10      1   \n",
       "1          1               0   33700           134075               18      1   \n",
       "\n",
       "  Result  \n",
       "0   Good  \n",
       "1   Good  "
      ]
     },
     "execution_count": 13,
     "metadata": {},
     "output_type": "execute_result"
    }
   ],
   "source": [
    "# Adding a column 'Result'\n",
    "data['Result'] = data['Income'].apply(lambda Income: 'Risky' if Income <= 30000 else 'Good')\n",
    "data.head(2)"
   ]
  },
  {
   "cell_type": "code",
   "execution_count": 14,
   "id": "ccf97a71",
   "metadata": {},
   "outputs": [
    {
     "data": {
      "text/html": [
       "<div>\n",
       "<style scoped>\n",
       "    .dataframe tbody tr th:only-of-type {\n",
       "        vertical-align: middle;\n",
       "    }\n",
       "\n",
       "    .dataframe tbody tr th {\n",
       "        vertical-align: top;\n",
       "    }\n",
       "\n",
       "    .dataframe thead th {\n",
       "        text-align: right;\n",
       "    }\n",
       "</style>\n",
       "<table border=\"1\" class=\"dataframe\">\n",
       "  <thead>\n",
       "    <tr style=\"text-align: right;\">\n",
       "      <th></th>\n",
       "      <th>Undergrad</th>\n",
       "      <th>Marital.Status</th>\n",
       "      <th>Income</th>\n",
       "      <th>City.Population</th>\n",
       "      <th>Work.Experience</th>\n",
       "      <th>Urban</th>\n",
       "      <th>Result</th>\n",
       "    </tr>\n",
       "  </thead>\n",
       "  <tbody>\n",
       "    <tr>\n",
       "      <th>0</th>\n",
       "      <td>0</td>\n",
       "      <td>2</td>\n",
       "      <td>68833</td>\n",
       "      <td>50047</td>\n",
       "      <td>10</td>\n",
       "      <td>1</td>\n",
       "      <td>0</td>\n",
       "    </tr>\n",
       "    <tr>\n",
       "      <th>1</th>\n",
       "      <td>1</td>\n",
       "      <td>0</td>\n",
       "      <td>33700</td>\n",
       "      <td>134075</td>\n",
       "      <td>18</td>\n",
       "      <td>1</td>\n",
       "      <td>0</td>\n",
       "    </tr>\n",
       "    <tr>\n",
       "      <th>2</th>\n",
       "      <td>0</td>\n",
       "      <td>1</td>\n",
       "      <td>36925</td>\n",
       "      <td>160205</td>\n",
       "      <td>30</td>\n",
       "      <td>1</td>\n",
       "      <td>0</td>\n",
       "    </tr>\n",
       "    <tr>\n",
       "      <th>3</th>\n",
       "      <td>1</td>\n",
       "      <td>2</td>\n",
       "      <td>50190</td>\n",
       "      <td>193264</td>\n",
       "      <td>15</td>\n",
       "      <td>1</td>\n",
       "      <td>0</td>\n",
       "    </tr>\n",
       "    <tr>\n",
       "      <th>4</th>\n",
       "      <td>0</td>\n",
       "      <td>1</td>\n",
       "      <td>81002</td>\n",
       "      <td>27533</td>\n",
       "      <td>28</td>\n",
       "      <td>0</td>\n",
       "      <td>0</td>\n",
       "    </tr>\n",
       "  </tbody>\n",
       "</table>\n",
       "</div>"
      ],
      "text/plain": [
       "   Undergrad  Marital.Status  Income  City.Population  Work.Experience  Urban  \\\n",
       "0          0               2   68833            50047               10      1   \n",
       "1          1               0   33700           134075               18      1   \n",
       "2          0               1   36925           160205               30      1   \n",
       "3          1               2   50190           193264               15      1   \n",
       "4          0               1   81002            27533               28      0   \n",
       "\n",
       "   Result  \n",
       "0       0  \n",
       "1       0  \n",
       "2       0  \n",
       "3       0  \n",
       "4       0  "
      ]
     },
     "execution_count": 14,
     "metadata": {},
     "output_type": "execute_result"
    }
   ],
   "source": [
    "# Converting Categorical Variable 'Result' to Numercial Variable\n",
    "from sklearn.preprocessing import LabelEncoder\n",
    "\n",
    "label_encoder = LabelEncoder()\n",
    "data['Result'] = label_encoder.fit_transform(data['Result'])\n",
    "data.head()"
   ]
  },
  {
   "cell_type": "code",
   "execution_count": 15,
   "id": "41c8969c",
   "metadata": {},
   "outputs": [
    {
     "data": {
      "text/plain": [
       "0    476\n",
       "1    124\n",
       "Name: Result, dtype: int64"
      ]
     },
     "execution_count": 15,
     "metadata": {},
     "output_type": "execute_result"
    }
   ],
   "source": [
    "data['Result'].value_counts()"
   ]
  },
  {
   "cell_type": "markdown",
   "id": "2398d0d5",
   "metadata": {},
   "source": [
    "Count of Good and Risky"
   ]
  },
  {
   "cell_type": "markdown",
   "id": "4fee6c42",
   "metadata": {},
   "source": [
    "# Data Visualisation"
   ]
  },
  {
   "cell_type": "code",
   "execution_count": 16,
   "id": "9241c7f9",
   "metadata": {},
   "outputs": [
    {
     "data": {
      "image/png": "[encoded data removed]",
      "text/plain": [
       "<Figure size 2000x1500 with 9 Axes>"
      ]
     },
     "metadata": {},
     "output_type": "display_data"
    }
   ],
   "source": [
    "data.hist(figsize=(20,15))\n",
    "plt.show()"
   ]
  },
  {
   "cell_type": "code",
   "execution_count": 17,
   "id": "3d65e550",
   "metadata": {},
   "outputs": [
    {
     "data": {
      "text/plain": [
       "<Axes: >"
      ]
     },
     "execution_count": 17,
     "metadata": {},
     "output_type": "execute_result"
    },
    {
     "data": {
      "image/png": "[encoded data removed]",
      "text/plain": [
       "<Figure size 1200x500 with 2 Axes>"
      ]
     },
     "metadata": {},
     "output_type": "display_data"
    }
   ],
   "source": [
    "# correlation\n",
    "import seaborn as sns\n",
    "plt.figure(figsize=(12,5))\n",
    "sns.heatmap(data.corr(),annot=True)"
   ]
  },
  {
   "cell_type": "markdown",
   "id": "10dc2adc",
   "metadata": {},
   "source": [
    "# Declaring Feature Vector and Target Variable "
   ]
  },
  {
   "cell_type": "code",
   "execution_count": 18,
   "id": "96466419",
   "metadata": {},
   "outputs": [],
   "source": [
    "x = data.iloc[:,0:5]\n",
    "y = data['Result']"
   ]
  },
  {
   "cell_type": "code",
   "execution_count": 19,
   "id": "42a14e40",
   "metadata": {},
   "outputs": [
    {
     "data": {
      "text/html": [
       "<div>\n",
       "<style scoped>\n",
       "    .dataframe tbody tr th:only-of-type {\n",
       "        vertical-align: middle;\n",
       "    }\n",
       "\n",
       "    .dataframe tbody tr th {\n",
       "        vertical-align: top;\n",
       "    }\n",
       "\n",
       "    .dataframe thead th {\n",
       "        text-align: right;\n",
       "    }\n",
       "</style>\n",
       "<table border=\"1\" class=\"dataframe\">\n",
       "  <thead>\n",
       "    <tr style=\"text-align: right;\">\n",
       "      <th></th>\n",
       "      <th>Undergrad</th>\n",
       "      <th>Marital.Status</th>\n",
       "      <th>Income</th>\n",
       "      <th>City.Population</th>\n",
       "      <th>Work.Experience</th>\n",
       "    </tr>\n",
       "  </thead>\n",
       "  <tbody>\n",
       "    <tr>\n",
       "      <th>0</th>\n",
       "      <td>0</td>\n",
       "      <td>2</td>\n",
       "      <td>68833</td>\n",
       "      <td>50047</td>\n",
       "      <td>10</td>\n",
       "    </tr>\n",
       "    <tr>\n",
       "      <th>1</th>\n",
       "      <td>1</td>\n",
       "      <td>0</td>\n",
       "      <td>33700</td>\n",
       "      <td>134075</td>\n",
       "      <td>18</td>\n",
       "    </tr>\n",
       "    <tr>\n",
       "      <th>2</th>\n",
       "      <td>0</td>\n",
       "      <td>1</td>\n",
       "      <td>36925</td>\n",
       "      <td>160205</td>\n",
       "      <td>30</td>\n",
       "    </tr>\n",
       "  </tbody>\n",
       "</table>\n",
       "</div>"
      ],
      "text/plain": [
       "   Undergrad  Marital.Status  Income  City.Population  Work.Experience\n",
       "0          0               2   68833            50047               10\n",
       "1          1               0   33700           134075               18\n",
       "2          0               1   36925           160205               30"
      ]
     },
     "execution_count": 19,
     "metadata": {},
     "output_type": "execute_result"
    }
   ],
   "source": [
    "x.head(3)"
   ]
  },
  {
   "cell_type": "code",
   "execution_count": 20,
   "id": "824e917e",
   "metadata": {},
   "outputs": [
    {
     "data": {
      "text/plain": [
       "0    0\n",
       "1    0\n",
       "2    0\n",
       "Name: Result, dtype: int32"
      ]
     },
     "execution_count": 20,
     "metadata": {},
     "output_type": "execute_result"
    }
   ],
   "source": [
    "y.head(3)"
   ]
  },
  {
   "cell_type": "markdown",
   "id": "a5735b90",
   "metadata": {},
   "source": [
    "# Split Data into Training and Testing Set"
   ]
  },
  {
   "cell_type": "code",
   "execution_count": 21,
   "id": "f02236db",
   "metadata": {},
   "outputs": [],
   "source": [
    "# spliting data into training and testing sets\n",
    "\n",
    "from sklearn.model_selection import train_test_split\n",
    "x_train, x_test, y_train, y_test = train_test_split(x, y, test_size = 0.30, random_state = 42)"
   ]
  },
  {
   "cell_type": "code",
   "execution_count": 22,
   "id": "5ce0396f",
   "metadata": {},
   "outputs": [
    {
     "data": {
      "text/plain": [
       "((420, 5), (180, 5))"
      ]
     },
     "execution_count": 22,
     "metadata": {},
     "output_type": "execute_result"
    }
   ],
   "source": [
    "# checking the shape of X_train and X_test\n",
    "x_train.shape, x_test.shape"
   ]
  },
  {
   "cell_type": "code",
   "execution_count": 23,
   "id": "0da50b1b",
   "metadata": {},
   "outputs": [
    {
     "data": {
      "text/html": [
       "<div>\n",
       "<style scoped>\n",
       "    .dataframe tbody tr th:only-of-type {\n",
       "        vertical-align: middle;\n",
       "    }\n",
       "\n",
       "    .dataframe tbody tr th {\n",
       "        vertical-align: top;\n",
       "    }\n",
       "\n",
       "    .dataframe thead th {\n",
       "        text-align: right;\n",
       "    }\n",
       "</style>\n",
       "<table border=\"1\" class=\"dataframe\">\n",
       "  <thead>\n",
       "    <tr style=\"text-align: right;\">\n",
       "      <th></th>\n",
       "      <th>Undergrad</th>\n",
       "      <th>Marital.Status</th>\n",
       "      <th>Income</th>\n",
       "      <th>City.Population</th>\n",
       "      <th>Work.Experience</th>\n",
       "      <th>Urban</th>\n",
       "      <th>Result</th>\n",
       "    </tr>\n",
       "  </thead>\n",
       "  <tbody>\n",
       "    <tr>\n",
       "      <th>count</th>\n",
       "      <td>600.000000</td>\n",
       "      <td>600.000000</td>\n",
       "      <td>600.000000</td>\n",
       "      <td>600.000000</td>\n",
       "      <td>600.000000</td>\n",
       "      <td>600.000000</td>\n",
       "      <td>600.000000</td>\n",
       "    </tr>\n",
       "    <tr>\n",
       "      <th>mean</th>\n",
       "      <td>0.520000</td>\n",
       "      <td>1.046667</td>\n",
       "      <td>55208.375000</td>\n",
       "      <td>108747.368333</td>\n",
       "      <td>15.558333</td>\n",
       "      <td>0.503333</td>\n",
       "      <td>0.206667</td>\n",
       "    </tr>\n",
       "    <tr>\n",
       "      <th>std</th>\n",
       "      <td>0.500017</td>\n",
       "      <td>0.821958</td>\n",
       "      <td>26204.827597</td>\n",
       "      <td>49850.075134</td>\n",
       "      <td>8.842147</td>\n",
       "      <td>0.500406</td>\n",
       "      <td>0.405252</td>\n",
       "    </tr>\n",
       "    <tr>\n",
       "      <th>min</th>\n",
       "      <td>0.000000</td>\n",
       "      <td>0.000000</td>\n",
       "      <td>10003.000000</td>\n",
       "      <td>25779.000000</td>\n",
       "      <td>0.000000</td>\n",
       "      <td>0.000000</td>\n",
       "      <td>0.000000</td>\n",
       "    </tr>\n",
       "    <tr>\n",
       "      <th>25%</th>\n",
       "      <td>0.000000</td>\n",
       "      <td>0.000000</td>\n",
       "      <td>32871.500000</td>\n",
       "      <td>66966.750000</td>\n",
       "      <td>8.000000</td>\n",
       "      <td>0.000000</td>\n",
       "      <td>0.000000</td>\n",
       "    </tr>\n",
       "    <tr>\n",
       "      <th>50%</th>\n",
       "      <td>1.000000</td>\n",
       "      <td>1.000000</td>\n",
       "      <td>55074.500000</td>\n",
       "      <td>106493.500000</td>\n",
       "      <td>15.000000</td>\n",
       "      <td>1.000000</td>\n",
       "      <td>0.000000</td>\n",
       "    </tr>\n",
       "    <tr>\n",
       "      <th>75%</th>\n",
       "      <td>1.000000</td>\n",
       "      <td>2.000000</td>\n",
       "      <td>78611.750000</td>\n",
       "      <td>150114.250000</td>\n",
       "      <td>24.000000</td>\n",
       "      <td>1.000000</td>\n",
       "      <td>0.000000</td>\n",
       "    </tr>\n",
       "    <tr>\n",
       "      <th>max</th>\n",
       "      <td>1.000000</td>\n",
       "      <td>2.000000</td>\n",
       "      <td>99619.000000</td>\n",
       "      <td>199778.000000</td>\n",
       "      <td>30.000000</td>\n",
       "      <td>1.000000</td>\n",
       "      <td>1.000000</td>\n",
       "    </tr>\n",
       "  </tbody>\n",
       "</table>\n",
       "</div>"
      ],
      "text/plain": [
       "        Undergrad  Marital.Status        Income  City.Population  \\\n",
       "count  600.000000      600.000000    600.000000       600.000000   \n",
       "mean     0.520000        1.046667  55208.375000    108747.368333   \n",
       "std      0.500017        0.821958  26204.827597     49850.075134   \n",
       "min      0.000000        0.000000  10003.000000     25779.000000   \n",
       "25%      0.000000        0.000000  32871.500000     66966.750000   \n",
       "50%      1.000000        1.000000  55074.500000    106493.500000   \n",
       "75%      1.000000        2.000000  78611.750000    150114.250000   \n",
       "max      1.000000        2.000000  99619.000000    199778.000000   \n",
       "\n",
       "       Work.Experience       Urban      Result  \n",
       "count       600.000000  600.000000  600.000000  \n",
       "mean         15.558333    0.503333    0.206667  \n",
       "std           8.842147    0.500406    0.405252  \n",
       "min           0.000000    0.000000    0.000000  \n",
       "25%           8.000000    0.000000    0.000000  \n",
       "50%          15.000000    1.000000    0.000000  \n",
       "75%          24.000000    1.000000    0.000000  \n",
       "max          30.000000    1.000000    1.000000  "
      ]
     },
     "execution_count": 23,
     "metadata": {},
     "output_type": "execute_result"
    }
   ],
   "source": [
    "# checking statistical data\n",
    "data.describe()"
   ]
  },
  {
   "cell_type": "markdown",
   "id": "60c95922",
   "metadata": {},
   "source": [
    "There are huge differences in the mean among the features, so we will normalise it."
   ]
  },
  {
   "cell_type": "code",
   "execution_count": 24,
   "id": "88b43ab0",
   "metadata": {},
   "outputs": [],
   "source": [
    "from sklearn.preprocessing import StandardScaler\n",
    "\n",
    "# Create an instance of StandardScaler\n",
    "scaler = StandardScaler()\n",
    "\n",
    "# Fit and transform the training data\n",
    "x_train_scaled = scaler.fit_transform(x_train)\n",
    "\n",
    "# Transform the test data using the same scaler\n",
    "x_test_scaled = scaler.transform(x_test)"
   ]
  },
  {
   "cell_type": "code",
   "execution_count": 25,
   "id": "185e8227",
   "metadata": {},
   "outputs": [
    {
     "data": {
      "text/plain": [
       "array([[ 0.93541435, -0.09857599, -0.10978121,  0.23808829, -0.63366623],\n",
       "       [-1.06904497,  1.11912739, -0.85420509,  0.34915242, -1.65032935],\n",
       "       [-1.06904497, -1.31627937,  1.59604355,  0.97751647,  0.04410919],\n",
       "       ...,\n",
       "       [-1.06904497, -0.09857599, -0.93067495,  0.43238102, -1.19847908],\n",
       "       [-1.06904497, -1.31627937,  1.4058444 ,  0.05701843, -1.31144165],\n",
       "       [ 0.93541435, -1.31627937, -0.84674555, -0.34574289,  0.83484718]])"
      ]
     },
     "execution_count": 25,
     "metadata": {},
     "output_type": "execute_result"
    }
   ],
   "source": [
    "x_train_scaled"
   ]
  },
  {
   "cell_type": "code",
   "execution_count": 26,
   "id": "cfb3353f",
   "metadata": {},
   "outputs": [
    {
     "data": {
      "text/plain": [
       "array([[-1.06904497,  1.11912739, -1.15679466, -1.5178923 ,  0.3829969 ],\n",
       "       [-1.06904497, -0.09857599,  0.51536653,  0.57918262,  0.49595947],\n",
       "       [-1.06904497, -1.31627937,  0.34869362, -1.54541016,  1.39966003],\n",
       "       [ 0.93541435, -0.09857599, -0.89280343,  0.18746021,  1.17373489],\n",
       "       [-1.06904497, -1.31627937, -0.96605995, -1.44510698,  0.49595947],\n",
       "       [-1.06904497, -1.31627937, -1.49664367,  1.57802514,  0.72188461],\n",
       "       [-1.06904497,  1.11912739, -0.95882993, -0.12508385,  0.3829969 ],\n",
       "       [ 0.93541435,  1.11912739,  1.14946573, -0.86197069, -0.29477852],\n",
       "       [ 0.93541435, -1.31627937,  0.71206888,  0.68002186, -1.76329192],\n",
       "       [ 0.93541435, -1.31627937, -1.50360591, -0.72759779,  1.62558517],\n",
       "       [ 0.93541435,  1.11912739, -1.33398743, -0.37598077,  0.04410919],\n",
       "       [-1.06904497, -1.31627937, -0.95072007,  1.79227129, -0.63366623],\n",
       "       [ 0.93541435, -0.09857599,  0.55189916,  1.38349416, -0.85959137],\n",
       "       [ 0.93541435, -0.09857599,  1.15830241, -0.31091871,  1.28669746],\n",
       "       [-1.06904497, -0.09857599,  1.51548051, -0.39271782,  1.39966003],\n",
       "       [-1.06904497,  1.11912739,  1.68980424, -0.12714868, -0.18181595],\n",
       "       [ 0.93541435, -1.31627937,  0.72901542,  0.1764213 , -1.76329192],\n",
       "       [ 0.93541435, -1.31627937,  0.27811489,  0.07458935, -0.18181595],\n",
       "       [-1.06904497, -1.31627937,  1.47317153, -0.76962903, -0.06885338],\n",
       "       [ 0.93541435, -1.31627937, -0.59369499, -0.22598265,  1.5126226 ],\n",
       "       [-1.06904497, -0.09857599, -0.68366852,  1.01857485,  1.62558517],\n",
       "       [-1.06904497,  1.11912739,  1.25810724,  0.9088211 ,  1.17373489],\n",
       "       [-1.06904497, -0.09857599, -0.60826978,  1.60717103, -1.42440422],\n",
       "       [ 0.93541435, -1.31627937,  0.58032192, -1.062855  , -1.53736679],\n",
       "       [ 0.93541435, -1.31627937,  1.55013869,  0.38766947, -0.18181595],\n",
       "       [ 0.93541435, -1.31627937, -0.83580489, -1.02272976, -0.85959137],\n",
       "       [ 0.93541435, -1.31627937, -0.51462386, -0.01195489,  1.28669746],\n",
       "       [ 0.93541435, -1.31627937, -1.6191714 , -0.66668525,  0.3829969 ],\n",
       "       [-1.06904497,  1.11912739, -0.4871192 , -1.48231366, -0.40774109],\n",
       "       [ 0.93541435, -0.09857599, -1.25591091,  0.16573976,  0.49595947],\n",
       "       [ 0.93541435, -1.31627937,  0.824115  , -1.37807936, -0.97255394],\n",
       "       [ 0.93541435, -1.31627937, -1.06024143, -0.33853584, -0.06885338],\n",
       "       [-1.06904497, -1.31627937,  0.45014337,  0.0430014 ,  1.17373489],\n",
       "       [ 0.93541435, -0.09857599, -0.00190478, -1.53454993,  0.15707176],\n",
       "       [ 0.93541435, -0.09857599, -0.24803136,  0.3505025 , -0.63366623],\n",
       "       [ 0.93541435,  1.11912739,  1.62748838, -1.33813281,  1.17373489],\n",
       "       [-1.06904497, -1.31627937, -0.29998036, -0.81565096, -0.40774109],\n",
       "       [-1.06904497, -1.31627937, -0.1313565 , -0.41761492, -0.29477852],\n",
       "       [-1.06904497, -1.31627937, -0.4866984 , -0.7661347 ,  0.94780975],\n",
       "       [ 0.93541435, -0.09857599,  1.201606  , -1.05844738, -1.76329192],\n",
       "       [ 0.93541435, -0.09857599,  0.05096232, -0.91247965,  0.15707176],\n",
       "       [ 0.93541435, -1.31627937,  1.50094397, -1.33100517,  1.62558517],\n",
       "       [-1.06904497,  1.11912739, -1.18253964,  0.043736  , -0.85959137],\n",
       "       [-1.06904497,  1.11912739,  0.04530072,  1.04684716,  1.5126226 ],\n",
       "       [-1.06904497, -1.31627937, -0.6334027 , -1.59641547,  1.62558517],\n",
       "       [-1.06904497, -1.31627937, -1.183649  , -0.3825922 , -1.31144165],\n",
       "       [ 0.93541435,  1.11912739,  0.14150967,  0.76368725,  0.04410919],\n",
       "       [-1.06904497,  1.11912739, -0.50326241,  1.30086118, -0.18181595],\n",
       "       [ 0.93541435, -1.31627937, -0.11903869, -0.25951631, -0.7466288 ],\n",
       "       [-1.06904497, -0.09857599, -0.72341448,  0.24011342,  0.94780975],\n",
       "       [-1.06904497,  1.11912739, -0.8028299 ,  1.47553801,  0.94780975],\n",
       "       [-1.06904497,  1.11912739, -0.99050429, -0.07004814,  0.15707176],\n",
       "       [ 0.93541435, -0.09857599, -0.75455328, -1.1597234 ,  0.49595947],\n",
       "       [-1.06904497,  1.11912739, -0.88626199, -1.09305316, -0.63366623],\n",
       "       [ 0.93541435,  1.11912739, -1.04826791,  0.47564322,  0.27003433],\n",
       "       [-1.06904497, -0.09857599, -1.19799427, -1.23933855,  1.28669746],\n",
       "       [ 0.93541435,  1.11912739,  1.70269585,  1.53545784,  1.06077232],\n",
       "       [ 0.93541435, -0.09857599,  1.39654866, -1.39850929,  0.83484718],\n",
       "       [ 0.93541435,  1.11912739, -1.22503989,  0.13861899, -1.08551651],\n",
       "       [ 0.93541435,  1.11912739,  1.19667123,  1.43878797, -0.29477852],\n",
       "       [ 0.93541435, -0.09857599,  0.49084569,  0.40228213, -0.52070366],\n",
       "       [-1.06904497, -0.09857599, -0.61561456, -0.66974279,  1.39966003],\n",
       "       [-1.06904497,  1.11912739, -1.32694869, -1.38070011, -0.63366623],\n",
       "       [-1.06904497,  1.11912739, -0.54025408,  0.95543865, -0.18181595],\n",
       "       [ 0.93541435, -1.31627937,  0.83157454,  0.90318252, -0.7466288 ],\n",
       "       [ 0.93541435, -1.31627937,  1.31996405, -0.55587923, -1.42440422],\n",
       "       [-1.06904497, -0.09857599, -0.16808039, -1.43031564,  1.5126226 ],\n",
       "       [ 0.93541435, -0.09857599, -0.88610897, -1.55116786, -0.63366623],\n",
       "       [ 0.93541435, -1.31627937, -0.7339726 ,  0.25226416,  0.94780975],\n",
       "       [-1.06904497, -0.09857599, -0.2526601 , -0.76595601,  1.06077232],\n",
       "       [ 0.93541435, -1.31627937,  0.28094569, -0.04258985,  0.83484718],\n",
       "       [-1.06904497, -1.31627937,  1.0925437 , -0.55615719, -0.85959137],\n",
       "       [-1.06904497, -0.09857599,  1.51987973, -0.5688837 ,  0.3829969 ],\n",
       "       [ 0.93541435, -1.31627937,  0.33457788,  0.76859123, -0.7466288 ],\n",
       "       [-1.06904497,  1.11912739,  1.26767075,  0.89037659,  1.62558517],\n",
       "       [ 0.93541435,  1.11912739,  1.61868995, -0.1638193 , -1.08551651],\n",
       "       [ 0.93541435,  1.11912739, -0.77268571, -1.53395431,  0.27003433],\n",
       "       [ 0.93541435,  1.11912739,  0.083287  , -0.71344178, -0.7466288 ],\n",
       "       [ 0.93541435, -1.31627937,  0.65908701,  1.42000594,  1.17373489],\n",
       "       [-1.06904497, -0.09857599, -0.64801574,  0.95925065, -0.52070366],\n",
       "       [ 0.93541435, -1.31627937,  0.81807086,  0.09573403, -1.08551651],\n",
       "       [ 0.93541435, -1.31627937,  1.50913034, -1.16204634,  1.06077232],\n",
       "       [ 0.93541435, -0.09857599,  1.6753442 ,  1.41323568,  0.15707176],\n",
       "       [ 0.93541435, -1.31627937,  0.3975823 , -0.91787998,  0.49595947],\n",
       "       [ 0.93541435,  1.11912739, -0.51317021,  1.3081278 , -1.53736679],\n",
       "       [-1.06904497, -0.09857599,  0.73498306, -1.07055841,  0.04410919],\n",
       "       [ 0.93541435,  1.11912739,  0.14682698,  0.60995655, -0.97255394],\n",
       "       [-1.06904497, -0.09857599,  0.11465532, -1.40589503,  0.3829969 ],\n",
       "       [-1.06904497, -1.31627937,  0.92445538, -0.45233983, -1.19847908],\n",
       "       [ 0.93541435,  1.11912739, -0.74965677,  0.33932461, -0.29477852],\n",
       "       [-1.06904497, -1.31627937,  0.87747941, -0.42410723, -0.7466288 ],\n",
       "       [-1.06904497, -0.09857599,  1.5219837 , -0.98895785, -1.08551651],\n",
       "       [ 0.93541435, -0.09857599,  1.51567178, -0.35269185,  0.83484718],\n",
       "       [-1.06904497, -0.09857599,  1.66547466, -0.69191988,  1.62558517],\n",
       "       [-1.06904497, -0.09857599, -1.16482801,  1.7658057 , -0.97255394],\n",
       "       [-1.06904497, -1.31627937, -1.41592762, -1.50331935, -1.65032935],\n",
       "       [-1.06904497, -0.09857599, -0.99585985, -0.16292586, -0.7466288 ],\n",
       "       [-1.06904497,  1.11912739,  0.23970782, -0.27849688, -1.08551651],\n",
       "       [ 0.93541435,  1.11912739,  1.01683892, -1.59738832, -0.52070366],\n",
       "       [-1.06904497, -1.31627937,  1.24521562, -0.6936869 ,  0.27003433],\n",
       "       [-1.06904497, -1.31627937,  0.87361575, -0.15228404,  1.5126226 ],\n",
       "       [ 0.93541435,  1.11912739,  0.63422188,  0.64724265, -1.42440422],\n",
       "       [-1.06904497, -0.09857599,  0.00203539,  0.21986218, -0.40774109],\n",
       "       [ 0.93541435, -0.09857599, -0.82230121,  0.63723616, -0.06885338],\n",
       "       [-1.06904497, -1.31627937, -1.70107333,  0.63499264, -0.97255394],\n",
       "       [ 0.93541435,  1.11912739, -1.24852788, -0.43111574,  0.3829969 ],\n",
       "       [ 0.93541435, -0.09857599, -1.0297912 , -0.3079803 , -1.31144165],\n",
       "       [-1.06904497,  1.11912739,  1.43946971,  1.16148503, -0.97255394],\n",
       "       [-1.06904497,  1.11912739,  1.541302  , -0.20894779, -1.42440422],\n",
       "       [-1.06904497, -1.31627937,  1.65193272, -1.62014118, -1.65032935],\n",
       "       [ 0.93541435, -0.09857599, -1.36707719,  0.73146396, -0.7466288 ],\n",
       "       [-1.06904497, -0.09857599, -0.22844528,  0.68391327,  0.04410919],\n",
       "       [-1.06904497, -1.31627937, -1.68554219, -0.25665731, -0.29477852],\n",
       "       [-1.06904497, -1.31627937, -0.4635547 ,  0.92881423, -1.31144165],\n",
       "       [ 0.93541435,  1.11912739,  0.46165784, -0.66158274, -1.19847908],\n",
       "       [-1.06904497,  1.11912739,  1.02288306, -0.68308478,  0.60892204],\n",
       "       [ 0.93541435, -0.09857599, -0.7099108 , -1.08135907,  0.60892204],\n",
       "       [-1.06904497, -0.09857599, -0.44637863,  1.74986282,  0.60892204],\n",
       "       [-1.06904497,  1.11912739, -0.58279258,  1.7500018 , -0.29477852],\n",
       "       [ 0.93541435, -1.31627937, -1.38574517, -1.19017967, -0.85959137],\n",
       "       [-1.06904497, -1.31627937, -0.79701528,  1.75748682, -1.53736679],\n",
       "       [ 0.93541435, -1.31627937,  1.65851242,  0.92480369, -1.31144165],\n",
       "       [-1.06904497, -0.09857599, -0.52074451,  0.43744383, -1.53736679],\n",
       "       [-1.06904497, -1.31627937, -0.17255611, -1.32435403, -0.40774109],\n",
       "       [-1.06904497, -1.31627937, -0.99804034,  0.56915627, -0.63366623],\n",
       "       [ 0.93541435,  1.11912739,  0.06519283,  1.29883606,  0.04410919],\n",
       "       [ 0.93541435, -0.09857599, -0.57299955,  0.77760501, -0.29477852],\n",
       "       [-1.06904497,  1.11912739, -0.30598625,  0.21843268,  0.60892204],\n",
       "       [ 0.93541435,  1.11912739, -0.02566055, -0.05305299,  1.62558517],\n",
       "       [-1.06904497,  1.11912739, -1.37365689, -0.85758292,  1.39966003],\n",
       "       [-1.06904497, -0.09857599,  0.54707915,  1.37352738, -1.31144165],\n",
       "       [ 0.93541435,  1.11912739,  0.51089081, -0.670259  ,  0.04410919],\n",
       "       [-1.06904497, -0.09857599,  1.66861149, -1.54358357, -0.29477852],\n",
       "       [ 0.93541435, -1.31627937, -1.40028171,  0.11791111,  1.39966003],\n",
       "       [-1.06904497,  1.11912739,  1.42585127, -1.31597558, -0.63366623],\n",
       "       [ 0.93541435, -0.09857599, -1.67796789, -1.59810307,  0.60892204],\n",
       "       [-1.06904497, -0.09857599,  0.24131449, -1.16143086,  0.3829969 ],\n",
       "       [-1.06904497, -1.31627937,  1.1802985 ,  0.1135432 , -0.29477852],\n",
       "       [ 0.93541435, -1.31627937,  0.53399626,  1.1653963 ,  1.17373489],\n",
       "       [-1.06904497,  1.11912739, -1.70792081,  0.61031393, -1.19847908],\n",
       "       [-1.06904497, -1.31627937,  0.57657302, -0.02259672,  1.5126226 ],\n",
       "       [-1.06904497, -0.09857599, -1.44618657,  1.27441545, -0.18181595],\n",
       "       [-1.06904497, -1.31627937, -1.00611194,  1.0809566 , -0.52070366],\n",
       "       [-1.06904497, -0.09857599,  1.2185908 , -0.89355865,  0.94780975],\n",
       "       [-1.06904497,  1.11912739,  0.39681722, -0.17017263, -1.42440422],\n",
       "       [-1.06904497,  1.11912739, -0.00607447, -0.24881492,  1.5126226 ],\n",
       "       [ 0.93541435, -1.31627937,  0.53170102,  0.60290833,  1.5126226 ],\n",
       "       [-1.06904497, -1.31627937,  0.70831998,  0.62270292,  1.39966003],\n",
       "       [ 0.93541435,  1.11912739,  1.04334898,  0.95992569,  0.60892204],\n",
       "       [-1.06904497,  1.11912739,  0.53694182, -1.16851879, -0.63366623],\n",
       "       [-1.06904497, -1.31627937,  1.14678794,  0.4578539 , -0.63366623],\n",
       "       [ 0.93541435, -0.09857599,  0.61000706,  0.30849111, -0.18181595],\n",
       "       [ 0.93541435, -0.09857599, -0.1441716 ,  0.64962515,  1.5126226 ],\n",
       "       [ 0.93541435, -1.31627937,  1.66187878, -0.49179003, -1.65032935],\n",
       "       [ 0.93541435, -0.09857599, -0.80520165, -0.34417441, -0.29477852],\n",
       "       [ 0.93541435,  1.11912739,  0.51532828,  0.90822548,  1.28669746],\n",
       "       [ 0.93541435, -1.31627937,  0.92468491,  0.92202411, -0.18181595],\n",
       "       [-1.06904497,  1.11912739,  0.86129794,  1.22112691, -0.29477852],\n",
       "       [-1.06904497, -0.09857599, -0.45953802,  0.46990537, -0.40774109],\n",
       "       [ 0.93541435, -0.09857599, -1.07324781,  1.33316388,  0.49595947],\n",
       "       [-1.06904497, -1.31627937,  0.7717452 ,  0.50466999, -0.63366623],\n",
       "       [ 0.93541435, -0.09857599,  0.61264659, -1.02662117, -0.85959137],\n",
       "       [ 0.93541435, -1.31627937,  1.65105288, -0.98542381, -1.08551651],\n",
       "       [-1.06904497,  1.11912739, -0.82853662, -1.12688464, -1.08551651],\n",
       "       [ 0.93541435,  1.11912739,  0.92288697, -0.59572652, -0.52070366],\n",
       "       [ 0.93541435,  1.11912739,  0.94319987,  0.94507478,  1.5126226 ],\n",
       "       [-1.06904497,  1.11912739,  1.01121558,  1.7454552 , -0.18181595],\n",
       "       [ 0.93541435, -0.09857599,  0.13978824,  0.07310029,  1.06077232],\n",
       "       [ 0.93541435, -1.31627937, -1.61982172,  1.64733598,  1.62558517],\n",
       "       [ 0.93541435,  1.11912739,  0.39807961, -0.01916195, -1.19847908],\n",
       "       [-1.06904497, -0.09857599, -0.88771565,  0.95440623,  0.04410919],\n",
       "       [ 0.93541435,  1.11912739,  1.34020044, -0.63136472, -1.65032935],\n",
       "       [-1.06904497, -0.09857599,  1.40358741,  1.26490531, -0.63366623],\n",
       "       [ 0.93541435, -0.09857599,  0.29444938,  1.75746696,  0.04410919],\n",
       "       [-1.06904497, -0.09857599, -0.52330753,  1.69711034,  1.06077232],\n",
       "       [-1.06904497, -1.31627937,  1.03829945, -0.21234285,  0.83484718],\n",
       "       [-1.06904497, -0.09857599, -1.43888005, -0.11269486,  1.5126226 ],\n",
       "       [ 0.93541435, -0.09857599, -0.88997263,  0.5647288 ,  1.28669746],\n",
       "       [ 0.93541435, -0.09857599, -1.51106545,  0.57128067, -1.42440422],\n",
       "       [-1.06904497,  1.11912739, -0.83764109,  0.19847926, -1.19847908]])"
      ]
     },
     "execution_count": 26,
     "metadata": {},
     "output_type": "execute_result"
    }
   ],
   "source": [
    "x_test_scaled"
   ]
  },
  {
   "cell_type": "markdown",
   "id": "e142a39c",
   "metadata": {},
   "source": [
    "# Random Forest Classifier model with default parameters"
   ]
  },
  {
   "cell_type": "code",
   "execution_count": 27,
   "id": "6514ab18",
   "metadata": {},
   "outputs": [],
   "source": [
    "# import Random Forest classifier\n",
    "from sklearn.ensemble import RandomForestClassifier"
   ]
  },
  {
   "cell_type": "code",
   "execution_count": 28,
   "id": "da1ab5a7",
   "metadata": {},
   "outputs": [],
   "source": [
    "# instantiate the classifier \n",
    "rfc = RandomForestClassifier(random_state=0)"
   ]
  },
  {
   "cell_type": "code",
   "execution_count": 29,
   "id": "8034b998",
   "metadata": {},
   "outputs": [
    {
     "data": {
      "text/html": [
       "<style>#sk-container-id-1 {color: black;}#sk-container-id-1 pre{padding: 0;}#sk-container-id-1 div.sk-toggleable {background-color: white;}#sk-container-id-1 label.sk-toggleable__label {cursor: pointer;display: block;width: 100%;margin-bottom: 0;padding: 0.3em;box-sizing: border-box;text-align: center;}#sk-container-id-1 label.sk-toggleable__label-arrow:before {content: \"▸\";float: left;margin-right: 0.25em;color: #696969;}#sk-container-id-1 label.sk-toggleable__label-arrow:hover:before {color: black;}#sk-container-id-1 div.sk-estimator:hover label.sk-toggleable__label-arrow:before {color: black;}#sk-container-id-1 div.sk-toggleable__content {max-height: 0;max-width: 0;overflow: hidden;text-align: left;background-color: #f0f8ff;}#sk-container-id-1 div.sk-toggleable__content pre {margin: 0.2em;color: black;border-radius: 0.25em;background-color: #f0f8ff;}#sk-container-id-1 input.sk-toggleable__control:checked~div.sk-toggleable__content {max-height: 200px;max-width: 100%;overflow: auto;}#sk-container-id-1 input.sk-toggleable__control:checked~label.sk-toggleable__label-arrow:before {content: \"▾\";}#sk-container-id-1 div.sk-estimator input.sk-toggleable__control:checked~label.sk-toggleable__label {background-color: #d4ebff;}#sk-container-id-1 div.sk-label input.sk-toggleable__control:checked~label.sk-toggleable__label {background-color: #d4ebff;}#sk-container-id-1 input.sk-hidden--visually {border: 0;clip: rect(1px 1px 1px 1px);clip: rect(1px, 1px, 1px, 1px);height: 1px;margin: -1px;overflow: hidden;padding: 0;position: absolute;width: 1px;}#sk-container-id-1 div.sk-estimator {font-family: monospace;background-color: #f0f8ff;border: 1px dotted black;border-radius: 0.25em;box-sizing: border-box;margin-bottom: 0.5em;}#sk-container-id-1 div.sk-estimator:hover {background-color: #d4ebff;}#sk-container-id-1 div.sk-parallel-item::after {content: \"\";width: 100%;border-bottom: 1px solid gray;flex-grow: 1;}#sk-container-id-1 div.sk-label:hover label.sk-toggleable__label {background-color: #d4ebff;}#sk-container-id-1 div.sk-serial::before {content: \"\";position: absolute;border-left: 1px solid gray;box-sizing: border-box;top: 0;bottom: 0;left: 50%;z-index: 0;}#sk-container-id-1 div.sk-serial {display: flex;flex-direction: column;align-items: center;background-color: white;padding-right: 0.2em;padding-left: 0.2em;position: relative;}#sk-container-id-1 div.sk-item {position: relative;z-index: 1;}#sk-container-id-1 div.sk-parallel {display: flex;align-items: stretch;justify-content: center;background-color: white;position: relative;}#sk-container-id-1 div.sk-item::before, #sk-container-id-1 div.sk-parallel-item::before {content: \"\";position: absolute;border-left: 1px solid gray;box-sizing: border-box;top: 0;bottom: 0;left: 50%;z-index: -1;}#sk-container-id-1 div.sk-parallel-item {display: flex;flex-direction: column;z-index: 1;position: relative;background-color: white;}#sk-container-id-1 div.sk-parallel-item:first-child::after {align-self: flex-end;width: 50%;}#sk-container-id-1 div.sk-parallel-item:last-child::after {align-self: flex-start;width: 50%;}#sk-container-id-1 div.sk-parallel-item:only-child::after {width: 0;}#sk-container-id-1 div.sk-dashed-wrapped {border: 1px dashed gray;margin: 0 0.4em 0.5em 0.4em;box-sizing: border-box;padding-bottom: 0.4em;background-color: white;}#sk-container-id-1 div.sk-label label {font-family: monospace;font-weight: bold;display: inline-block;line-height: 1.2em;}#sk-container-id-1 div.sk-label-container {text-align: center;}#sk-container-id-1 div.sk-container {/* jupyter's `normalize.less` sets `[hidden] { display: none; }` but bootstrap.min.css set `[hidden] { display: none !important; }` so we also need the `!important` here to be able to override the default hidden behavior on the sphinx rendered scikit-learn.org. See: https://github.com/scikit-learn/scikit-learn/issues/21755 */display: inline-block !important;position: relative;}#sk-container-id-1 div.sk-text-repr-fallback {display: none;}</style><div id=\"sk-container-id-1\" class=\"sk-top-container\"><div class=\"sk-text-repr-fallback\"><pre>RandomForestClassifier(random_state=0)</pre><b>In a Jupyter environment, please rerun this cell to show the HTML representation or trust the notebook. <br />On GitHub, the HTML representation is unable to render, please try loading this page with nbviewer.org.</b></div><div class=\"sk-container\" hidden><div class=\"sk-item\"><div class=\"sk-estimator sk-toggleable\"><input class=\"sk-toggleable__control sk-hidden--visually\" id=\"sk-estimator-id-1\" type=\"checkbox\" checked><label for=\"sk-estimator-id-1\" class=\"sk-toggleable__label sk-toggleable__label-arrow\">RandomForestClassifier</label><div class=\"sk-toggleable__content\"><pre>RandomForestClassifier(random_state=0)</pre></div></div></div></div></div>"
      ],
      "text/plain": [
       "RandomForestClassifier(random_state=0)"
      ]
     },
     "execution_count": 29,
     "metadata": {},
     "output_type": "execute_result"
    }
   ],
   "source": [
    "# fit the model\n",
    "rfc.fit(x_train, y_train)"
   ]
  },
  {
   "cell_type": "code",
   "execution_count": 30,
   "id": "6b99c377",
   "metadata": {},
   "outputs": [],
   "source": [
    "# Predicting the Test set results\n",
    "y_pred = rfc.predict(x_test)"
   ]
  },
  {
   "cell_type": "code",
   "execution_count": 31,
   "id": "37c1c12f",
   "metadata": {},
   "outputs": [
    {
     "name": "stdout",
     "output_type": "stream",
     "text": [
      "Model accuracy score with default parameter decision-trees : 1.0000\n"
     ]
    }
   ],
   "source": [
    "# Check accuracy score \n",
    "from sklearn.metrics import accuracy_score\n",
    "print('Model accuracy score with default parameter decision-trees : {0:0.4f}'. format(accuracy_score(y_test, y_pred)))"
   ]
  },
  {
   "cell_type": "code",
   "execution_count": 32,
   "id": "cf78ba99",
   "metadata": {},
   "outputs": [
    {
     "name": "stdout",
     "output_type": "stream",
     "text": [
      "Mean Squared Error: 0.0\n"
     ]
    }
   ],
   "source": [
    "# Calculate the Mean Squared Error (MSE)\n",
    "\n",
    "from sklearn.metrics import mean_squared_error\n",
    "mse = mean_squared_error(y_test, y_pred)\n",
    "print(\"Mean Squared Error:\", mse)"
   ]
  },
  {
   "cell_type": "markdown",
   "id": "f8ba78f5",
   "metadata": {},
   "source": [
    "# Random Forest Classifier Model with parameter n_estimators = 100"
   ]
  },
  {
   "cell_type": "code",
   "execution_count": 33,
   "id": "2f34d057",
   "metadata": {},
   "outputs": [],
   "source": [
    "# instantiate the classifier with n_estimators = 100\n",
    "rfc_100 = RandomForestClassifier(n_estimators = 100, random_state = 0)"
   ]
  },
  {
   "cell_type": "code",
   "execution_count": 34,
   "id": "89986903",
   "metadata": {},
   "outputs": [
    {
     "data": {
      "text/html": [
       "<style>#sk-container-id-2 {color: black;}#sk-container-id-2 pre{padding: 0;}#sk-container-id-2 div.sk-toggleable {background-color: white;}#sk-container-id-2 label.sk-toggleable__label {cursor: pointer;display: block;width: 100%;margin-bottom: 0;padding: 0.3em;box-sizing: border-box;text-align: center;}#sk-container-id-2 label.sk-toggleable__label-arrow:before {content: \"▸\";float: left;margin-right: 0.25em;color: #696969;}#sk-container-id-2 label.sk-toggleable__label-arrow:hover:before {color: black;}#sk-container-id-2 div.sk-estimator:hover label.sk-toggleable__label-arrow:before {color: black;}#sk-container-id-2 div.sk-toggleable__content {max-height: 0;max-width: 0;overflow: hidden;text-align: left;background-color: #f0f8ff;}#sk-container-id-2 div.sk-toggleable__content pre {margin: 0.2em;color: black;border-radius: 0.25em;background-color: #f0f8ff;}#sk-container-id-2 input.sk-toggleable__control:checked~div.sk-toggleable__content {max-height: 200px;max-width: 100%;overflow: auto;}#sk-container-id-2 input.sk-toggleable__control:checked~label.sk-toggleable__label-arrow:before {content: \"▾\";}#sk-container-id-2 div.sk-estimator input.sk-toggleable__control:checked~label.sk-toggleable__label {background-color: #d4ebff;}#sk-container-id-2 div.sk-label input.sk-toggleable__control:checked~label.sk-toggleable__label {background-color: #d4ebff;}#sk-container-id-2 input.sk-hidden--visually {border: 0;clip: rect(1px 1px 1px 1px);clip: rect(1px, 1px, 1px, 1px);height: 1px;margin: -1px;overflow: hidden;padding: 0;position: absolute;width: 1px;}#sk-container-id-2 div.sk-estimator {font-family: monospace;background-color: #f0f8ff;border: 1px dotted black;border-radius: 0.25em;box-sizing: border-box;margin-bottom: 0.5em;}#sk-container-id-2 div.sk-estimator:hover {background-color: #d4ebff;}#sk-container-id-2 div.sk-parallel-item::after {content: \"\";width: 100%;border-bottom: 1px solid gray;flex-grow: 1;}#sk-container-id-2 div.sk-label:hover label.sk-toggleable__label {background-color: #d4ebff;}#sk-container-id-2 div.sk-serial::before {content: \"\";position: absolute;border-left: 1px solid gray;box-sizing: border-box;top: 0;bottom: 0;left: 50%;z-index: 0;}#sk-container-id-2 div.sk-serial {display: flex;flex-direction: column;align-items: center;background-color: white;padding-right: 0.2em;padding-left: 0.2em;position: relative;}#sk-container-id-2 div.sk-item {position: relative;z-index: 1;}#sk-container-id-2 div.sk-parallel {display: flex;align-items: stretch;justify-content: center;background-color: white;position: relative;}#sk-container-id-2 div.sk-item::before, #sk-container-id-2 div.sk-parallel-item::before {content: \"\";position: absolute;border-left: 1px solid gray;box-sizing: border-box;top: 0;bottom: 0;left: 50%;z-index: -1;}#sk-container-id-2 div.sk-parallel-item {display: flex;flex-direction: column;z-index: 1;position: relative;background-color: white;}#sk-container-id-2 div.sk-parallel-item:first-child::after {align-self: flex-end;width: 50%;}#sk-container-id-2 div.sk-parallel-item:last-child::after {align-self: flex-start;width: 50%;}#sk-container-id-2 div.sk-parallel-item:only-child::after {width: 0;}#sk-container-id-2 div.sk-dashed-wrapped {border: 1px dashed gray;margin: 0 0.4em 0.5em 0.4em;box-sizing: border-box;padding-bottom: 0.4em;background-color: white;}#sk-container-id-2 div.sk-label label {font-family: monospace;font-weight: bold;display: inline-block;line-height: 1.2em;}#sk-container-id-2 div.sk-label-container {text-align: center;}#sk-container-id-2 div.sk-container {/* jupyter's `normalize.less` sets `[hidden] { display: none; }` but bootstrap.min.css set `[hidden] { display: none !important; }` so we also need the `!important` here to be able to override the default hidden behavior on the sphinx rendered scikit-learn.org. See: https://github.com/scikit-learn/scikit-learn/issues/21755 */display: inline-block !important;position: relative;}#sk-container-id-2 div.sk-text-repr-fallback {display: none;}</style><div id=\"sk-container-id-2\" class=\"sk-top-container\"><div class=\"sk-text-repr-fallback\"><pre>RandomForestClassifier(random_state=0)</pre><b>In a Jupyter environment, please rerun this cell to show the HTML representation or trust the notebook. <br />On GitHub, the HTML representation is unable to render, please try loading this page with nbviewer.org.</b></div><div class=\"sk-container\" hidden><div class=\"sk-item\"><div class=\"sk-estimator sk-toggleable\"><input class=\"sk-toggleable__control sk-hidden--visually\" id=\"sk-estimator-id-2\" type=\"checkbox\" checked><label for=\"sk-estimator-id-2\" class=\"sk-toggleable__label sk-toggleable__label-arrow\">RandomForestClassifier</label><div class=\"sk-toggleable__content\"><pre>RandomForestClassifier(random_state=0)</pre></div></div></div></div></div>"
      ],
      "text/plain": [
       "RandomForestClassifier(random_state=0)"
      ]
     },
     "execution_count": 34,
     "metadata": {},
     "output_type": "execute_result"
    }
   ],
   "source": [
    "# fit the model to the training set\n",
    "rfc_100.fit(x_train, y_train)"
   ]
  },
  {
   "cell_type": "code",
   "execution_count": 35,
   "id": "7e7c3bbd",
   "metadata": {},
   "outputs": [],
   "source": [
    "# Predict on the test set results\n",
    "y_pred_100 = rfc_100.predict(x_test)"
   ]
  },
  {
   "cell_type": "code",
   "execution_count": 36,
   "id": "3582d7a5",
   "metadata": {},
   "outputs": [
    {
     "name": "stdout",
     "output_type": "stream",
     "text": [
      "Model accuracy score with 100 decision-trees : 1.0000\n"
     ]
    }
   ],
   "source": [
    "# Check accuracy score \n",
    "print('Model accuracy score with 100 decision-trees : {0:0.4f}'. format(accuracy_score(y_test, y_pred_100)))"
   ]
  },
  {
   "cell_type": "markdown",
   "id": "c68528de",
   "metadata": {},
   "source": [
    "Here, we see that the Accuracy of the Model is 100%"
   ]
  },
  {
   "cell_type": "code",
   "execution_count": 37,
   "id": "a018ded3",
   "metadata": {},
   "outputs": [
    {
     "data": {
      "text/plain": [
       "Income             0.952119\n",
       "City.Population    0.026096\n",
       "Work.Experience    0.013790\n",
       "Marital.Status     0.005307\n",
       "Undergrad          0.002688\n",
       "dtype: float64"
      ]
     },
     "execution_count": 37,
     "metadata": {},
     "output_type": "execute_result"
    }
   ],
   "source": [
    "# viewing the feature scores\n",
    "feature_scores = pd.Series(rfc.feature_importances_, index=x_train.columns).sort_values(ascending=False)\n",
    "feature_scores"
   ]
  },
  {
   "cell_type": "markdown",
   "id": "7df2b56f",
   "metadata": {},
   "source": [
    "# Visualizing the feature scores of the features"
   ]
  },
  {
   "cell_type": "code",
   "execution_count": 38,
   "id": "4ea9505e",
   "metadata": {},
   "outputs": [
    {
     "data": {
      "image/png": "[encoded data removed]",
      "text/plain": [
       "<Figure size 640x480 with 1 Axes>"
      ]
     },
     "metadata": {},
     "output_type": "display_data"
    }
   ],
   "source": [
    "# Creating a seaborn bar plot\n",
    "sns.barplot(x=feature_scores, y=feature_scores.index)\n",
    "\n",
    "# adding labels to the graph\n",
    "plt.xlabel('Feature Importance Score')\n",
    "plt.ylabel('Features')\n",
    "\n",
    "# adding title to the graph\n",
    "plt.title(\"Visualizing Important Features\")\n",
    "\n",
    "# visualizing the graph\n",
    "plt.show()"
   ]
  },
  {
   "cell_type": "markdown",
   "id": "b5cb6da8",
   "metadata": {},
   "source": [
    "Income proves to be the most important feature"
   ]
  },
  {
   "cell_type": "markdown",
   "id": "45ac098f",
   "metadata": {},
   "source": [
    "# Confusion Matrix"
   ]
  },
  {
   "cell_type": "code",
   "execution_count": 39,
   "id": "b9ec7269",
   "metadata": {},
   "outputs": [
    {
     "name": "stdout",
     "output_type": "stream",
     "text": [
      "Confusion matrix\n",
      "\n",
      " [[143   0]\n",
      " [  0  37]]\n"
     ]
    }
   ],
   "source": [
    "# Print the Confusion Matrix and slice it into four pieces\n",
    "\n",
    "from sklearn.metrics import confusion_matrix\n",
    "cm = confusion_matrix(y_test, y_pred)\n",
    "print('Confusion matrix\\n\\n', cm)"
   ]
  },
  {
   "cell_type": "markdown",
   "id": "dc8a5e3f",
   "metadata": {},
   "source": [
    "# Classification Report"
   ]
  },
  {
   "cell_type": "code",
   "execution_count": 40,
   "id": "91f87e12",
   "metadata": {},
   "outputs": [
    {
     "name": "stdout",
     "output_type": "stream",
     "text": [
      "              precision    recall  f1-score   support\n",
      "\n",
      "           0       1.00      1.00      1.00       143\n",
      "           1       1.00      1.00      1.00        37\n",
      "\n",
      "    accuracy                           1.00       180\n",
      "   macro avg       1.00      1.00      1.00       180\n",
      "weighted avg       1.00      1.00      1.00       180\n",
      "\n"
     ]
    }
   ],
   "source": [
    "from sklearn.metrics import classification_report\n",
    "print(classification_report(y_test, y_pred))"
   ]
  },
  {
   "cell_type": "markdown",
   "id": "61e56f91",
   "metadata": {},
   "source": [
    "Confusin Matrix and its metrices is found to be impressive with 100% accuracy rate."
   ]
  },
  {
   "cell_type": "markdown",
   "id": "ccd8c2b2",
   "metadata": {},
   "source": [
    "# Conclusions:\n",
    "1. Built and Trained a Random Forest Classifier Model to predict the Fraud.\n",
    "2. Necessary EDA was carried out and visualized using the plot.\n",
    "3. The performance of the model is excceptionally impressive, giving an accuracy of 1.00.\n",
    "4. There was no requirement of extracting the features and rebuilding the model, since the accuracy was perfect.\n",
    "5. The least important features of the Model such as Undergrad and Marital.status did not have have any imapact on the performance of the Model.\n",
    "5. The accuracy score was also estimated using the confusion matrix and classification report and thus the Accuracy Score was perfect.\n",
    "6. The performance of the Model is quite impressive and can be used to predict the Fraud."
   ]
  },
  {
   "cell_type": "code",
   "execution_count": null,
   "id": "46b8917f",
   "metadata": {},
   "outputs": [],
   "source": []
  },
  {
   "cell_type": "code",
   "execution_count": null,
   "id": "0d92d43f",
   "metadata": {},
   "outputs": [],
   "source": []
  }
 ],
 "metadata": {
  "kernelspec": {
   "display_name": "Python 3 (ipykernel)",
   "language": "python",
   "name": "python3"
  },
  "language_info": {
   "codemirror_mode": {
    "name": "ipython",
    "version": 3
   },
   "file_extension": ".py",
   "mimetype": "text/x-python",
   "name": "python",
   "nbconvert_exporter": "python",
   "pygments_lexer": "ipython3",
   "version": "3.10.9"
  }
 },
 "nbformat": 4,
 "nbformat_minor": 5
}

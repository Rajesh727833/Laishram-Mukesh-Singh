{
 "cells": [
  {
   "cell_type": "markdown",
   "id": "a443d0c0",
   "metadata": {},
   "source": [
    "# 2. Cocacola"
   ]
  },
  {
   "cell_type": "code",
   "execution_count": 1,
   "id": "8e4cf1f5",
   "metadata": {},
   "outputs": [],
   "source": [
    "# Importing Libraries\n",
    "import pandas as pd\n",
    "import numpy as np\n",
    "import matplotlib.pyplot as plt\n",
    "import seaborn as sns\n",
    "from pandas.plotting import lag_plot\n",
    "from statsmodels.graphics.tsaplots import plot_acf\n",
    "import warnings                \n",
    "warnings.filterwarnings(\"ignore\")"
   ]
  },
  {
   "cell_type": "markdown",
   "id": "8a5a8013",
   "metadata": {},
   "source": [
    "# Importing the Dataset"
   ]
  },
  {
   "cell_type": "code",
   "execution_count": 2,
   "id": "d169e5d6",
   "metadata": {},
   "outputs": [
    {
     "data": {
      "text/html": [
       "<div>\n",
       "<style scoped>\n",
       "    .dataframe tbody tr th:only-of-type {\n",
       "        vertical-align: middle;\n",
       "    }\n",
       "\n",
       "    .dataframe tbody tr th {\n",
       "        vertical-align: top;\n",
       "    }\n",
       "\n",
       "    .dataframe thead th {\n",
       "        text-align: right;\n",
       "    }\n",
       "</style>\n",
       "<table border=\"1\" class=\"dataframe\">\n",
       "  <thead>\n",
       "    <tr style=\"text-align: right;\">\n",
       "      <th></th>\n",
       "      <th>Quarter</th>\n",
       "      <th>Sales</th>\n",
       "    </tr>\n",
       "  </thead>\n",
       "  <tbody>\n",
       "    <tr>\n",
       "      <th>0</th>\n",
       "      <td>Q1_86</td>\n",
       "      <td>1734.827000</td>\n",
       "    </tr>\n",
       "    <tr>\n",
       "      <th>1</th>\n",
       "      <td>Q2_86</td>\n",
       "      <td>2244.960999</td>\n",
       "    </tr>\n",
       "    <tr>\n",
       "      <th>2</th>\n",
       "      <td>Q3_86</td>\n",
       "      <td>2533.804993</td>\n",
       "    </tr>\n",
       "  </tbody>\n",
       "</table>\n",
       "</div>"
      ],
      "text/plain": [
       "  Quarter        Sales\n",
       "0   Q1_86  1734.827000\n",
       "1   Q2_86  2244.960999\n",
       "2   Q3_86  2533.804993"
      ]
     },
     "execution_count": 2,
     "metadata": {},
     "output_type": "execute_result"
    }
   ],
   "source": [
    "data = pd.read_excel(r'C:\\Users\\mukes\\OneDrive\\Desktop\\Data Science\\Assignments\\Forecasting\\CocaCola_Sales_Rawdata.xlsx')\n",
    "data.head(3)"
   ]
  },
  {
   "cell_type": "markdown",
   "id": "8cea0a9e",
   "metadata": {},
   "source": [
    "# Dataset Structure and Content"
   ]
  },
  {
   "cell_type": "code",
   "execution_count": 3,
   "id": "5760ff70",
   "metadata": {},
   "outputs": [
    {
     "data": {
      "text/plain": [
       "(42, 2)"
      ]
     },
     "execution_count": 3,
     "metadata": {},
     "output_type": "execute_result"
    }
   ],
   "source": [
    "data.shape"
   ]
  },
  {
   "cell_type": "code",
   "execution_count": 4,
   "id": "6cbc22bc",
   "metadata": {},
   "outputs": [
    {
     "data": {
      "text/plain": [
       "Quarter    0\n",
       "Sales      0\n",
       "dtype: int64"
      ]
     },
     "execution_count": 4,
     "metadata": {},
     "output_type": "execute_result"
    }
   ],
   "source": [
    "data.isnull().sum()"
   ]
  },
  {
   "cell_type": "code",
   "execution_count": 5,
   "id": "50d4def0",
   "metadata": {},
   "outputs": [
    {
     "name": "stdout",
     "output_type": "stream",
     "text": [
      "<class 'pandas.core.frame.DataFrame'>\n",
      "RangeIndex: 42 entries, 0 to 41\n",
      "Data columns (total 2 columns):\n",
      " #   Column   Non-Null Count  Dtype  \n",
      "---  ------   --------------  -----  \n",
      " 0   Quarter  42 non-null     object \n",
      " 1   Sales    42 non-null     float64\n",
      "dtypes: float64(1), object(1)\n",
      "memory usage: 800.0+ bytes\n"
     ]
    }
   ],
   "source": [
    "data.info()"
   ]
  },
  {
   "cell_type": "markdown",
   "id": "991147ab",
   "metadata": {},
   "source": [
    "There are no missing values"
   ]
  },
  {
   "cell_type": "code",
   "execution_count": 6,
   "id": "70b8ed9d",
   "metadata": {},
   "outputs": [
    {
     "data": {
      "text/plain": [
       "False"
      ]
     },
     "execution_count": 6,
     "metadata": {},
     "output_type": "execute_result"
    }
   ],
   "source": [
    "# checking duplicates\n",
    "data.duplicated().any()"
   ]
  },
  {
   "cell_type": "markdown",
   "id": "abe9bc67",
   "metadata": {},
   "source": [
    "No duplicates found"
   ]
  },
  {
   "cell_type": "markdown",
   "id": "0c522d1d",
   "metadata": {},
   "source": [
    "# Data Pre-Processing"
   ]
  },
  {
   "cell_type": "code",
   "execution_count": 7,
   "id": "dc568770",
   "metadata": {},
   "outputs": [
    {
     "data": {
      "text/html": [
       "<div>\n",
       "<style scoped>\n",
       "    .dataframe tbody tr th:only-of-type {\n",
       "        vertical-align: middle;\n",
       "    }\n",
       "\n",
       "    .dataframe tbody tr th {\n",
       "        vertical-align: top;\n",
       "    }\n",
       "\n",
       "    .dataframe thead th {\n",
       "        text-align: right;\n",
       "    }\n",
       "</style>\n",
       "<table border=\"1\" class=\"dataframe\">\n",
       "  <thead>\n",
       "    <tr style=\"text-align: right;\">\n",
       "      <th></th>\n",
       "      <th>Quarter</th>\n",
       "      <th>Sales</th>\n",
       "      <th>Quarter_Q1</th>\n",
       "      <th>Quarter_Q2</th>\n",
       "      <th>Quarter_Q3</th>\n",
       "      <th>Quarter_Q4</th>\n",
       "    </tr>\n",
       "  </thead>\n",
       "  <tbody>\n",
       "    <tr>\n",
       "      <th>0</th>\n",
       "      <td>Q1</td>\n",
       "      <td>1734.827000</td>\n",
       "      <td>1</td>\n",
       "      <td>0</td>\n",
       "      <td>0</td>\n",
       "      <td>0</td>\n",
       "    </tr>\n",
       "    <tr>\n",
       "      <th>1</th>\n",
       "      <td>Q2</td>\n",
       "      <td>2244.960999</td>\n",
       "      <td>0</td>\n",
       "      <td>1</td>\n",
       "      <td>0</td>\n",
       "      <td>0</td>\n",
       "    </tr>\n",
       "    <tr>\n",
       "      <th>2</th>\n",
       "      <td>Q3</td>\n",
       "      <td>2533.804993</td>\n",
       "      <td>0</td>\n",
       "      <td>0</td>\n",
       "      <td>1</td>\n",
       "      <td>0</td>\n",
       "    </tr>\n",
       "    <tr>\n",
       "      <th>3</th>\n",
       "      <td>Q4</td>\n",
       "      <td>2154.962997</td>\n",
       "      <td>0</td>\n",
       "      <td>0</td>\n",
       "      <td>0</td>\n",
       "      <td>1</td>\n",
       "    </tr>\n",
       "    <tr>\n",
       "      <th>4</th>\n",
       "      <td>Q1</td>\n",
       "      <td>1547.818996</td>\n",
       "      <td>1</td>\n",
       "      <td>0</td>\n",
       "      <td>0</td>\n",
       "      <td>0</td>\n",
       "    </tr>\n",
       "  </tbody>\n",
       "</table>\n",
       "</div>"
      ],
      "text/plain": [
       "  Quarter        Sales  Quarter_Q1  Quarter_Q2  Quarter_Q3  Quarter_Q4\n",
       "0      Q1  1734.827000           1           0           0           0\n",
       "1      Q2  2244.960999           0           1           0           0\n",
       "2      Q3  2533.804993           0           0           1           0\n",
       "3      Q4  2154.962997           0           0           0           1\n",
       "4      Q1  1547.818996           1           0           0           0"
      ]
     },
     "execution_count": 7,
     "metadata": {},
     "output_type": "execute_result"
    }
   ],
   "source": [
    "# Creating dummies\n",
    "# Extract the Quarter information from the 'Quarter' column\n",
    "data['Quarter'] = data['Quarter'].str[0:2]\n",
    "\n",
    "# Create dummy variables for the 'Quarter' column\n",
    "dummy = pd.get_dummies(data['Quarter'], prefix='Quarter')\n",
    "\n",
    "# Concatenate dummy variables with the original DataFrame\n",
    "new_data = pd.concat([data, dummy], axis=1)\n",
    "\n",
    "# Display the result\n",
    "new_data.head()"
   ]
  },
  {
   "cell_type": "code",
   "execution_count": 9,
   "id": "33e28801",
   "metadata": {},
   "outputs": [
    {
     "data": {
      "text/html": [
       "<div>\n",
       "<style scoped>\n",
       "    .dataframe tbody tr th:only-of-type {\n",
       "        vertical-align: middle;\n",
       "    }\n",
       "\n",
       "    .dataframe tbody tr th {\n",
       "        vertical-align: top;\n",
       "    }\n",
       "\n",
       "    .dataframe thead th {\n",
       "        text-align: right;\n",
       "    }\n",
       "</style>\n",
       "<table border=\"1\" class=\"dataframe\">\n",
       "  <thead>\n",
       "    <tr style=\"text-align: right;\">\n",
       "      <th></th>\n",
       "      <th>Quarter</th>\n",
       "      <th>Sales</th>\n",
       "      <th>Quarter_Q1</th>\n",
       "      <th>Quarter_Q2</th>\n",
       "      <th>Quarter_Q3</th>\n",
       "      <th>Quarter_Q4</th>\n",
       "      <th>t</th>\n",
       "      <th>t_squared</th>\n",
       "      <th>log_Sales</th>\n",
       "    </tr>\n",
       "  </thead>\n",
       "  <tbody>\n",
       "    <tr>\n",
       "      <th>0</th>\n",
       "      <td>Q1</td>\n",
       "      <td>1734.827000</td>\n",
       "      <td>1</td>\n",
       "      <td>0</td>\n",
       "      <td>0</td>\n",
       "      <td>0</td>\n",
       "      <td>1</td>\n",
       "      <td>1</td>\n",
       "      <td>7.458663</td>\n",
       "    </tr>\n",
       "    <tr>\n",
       "      <th>1</th>\n",
       "      <td>Q2</td>\n",
       "      <td>2244.960999</td>\n",
       "      <td>0</td>\n",
       "      <td>1</td>\n",
       "      <td>0</td>\n",
       "      <td>0</td>\n",
       "      <td>2</td>\n",
       "      <td>4</td>\n",
       "      <td>7.716443</td>\n",
       "    </tr>\n",
       "    <tr>\n",
       "      <th>2</th>\n",
       "      <td>Q3</td>\n",
       "      <td>2533.804993</td>\n",
       "      <td>0</td>\n",
       "      <td>0</td>\n",
       "      <td>1</td>\n",
       "      <td>0</td>\n",
       "      <td>3</td>\n",
       "      <td>9</td>\n",
       "      <td>7.837477</td>\n",
       "    </tr>\n",
       "    <tr>\n",
       "      <th>3</th>\n",
       "      <td>Q4</td>\n",
       "      <td>2154.962997</td>\n",
       "      <td>0</td>\n",
       "      <td>0</td>\n",
       "      <td>0</td>\n",
       "      <td>1</td>\n",
       "      <td>4</td>\n",
       "      <td>16</td>\n",
       "      <td>7.675529</td>\n",
       "    </tr>\n",
       "    <tr>\n",
       "      <th>4</th>\n",
       "      <td>Q1</td>\n",
       "      <td>1547.818996</td>\n",
       "      <td>1</td>\n",
       "      <td>0</td>\n",
       "      <td>0</td>\n",
       "      <td>0</td>\n",
       "      <td>5</td>\n",
       "      <td>25</td>\n",
       "      <td>7.344602</td>\n",
       "    </tr>\n",
       "  </tbody>\n",
       "</table>\n",
       "</div>"
      ],
      "text/plain": [
       "  Quarter        Sales  Quarter_Q1  Quarter_Q2  Quarter_Q3  Quarter_Q4  t  \\\n",
       "0      Q1  1734.827000           1           0           0           0  1   \n",
       "1      Q2  2244.960999           0           1           0           0  2   \n",
       "2      Q3  2533.804993           0           0           1           0  3   \n",
       "3      Q4  2154.962997           0           0           0           1  4   \n",
       "4      Q1  1547.818996           1           0           0           0  5   \n",
       "\n",
       "   t_squared  log_Sales  \n",
       "0          1   7.458663  \n",
       "1          4   7.716443  \n",
       "2          9   7.837477  \n",
       "3         16   7.675529  \n",
       "4         25   7.344602  "
      ]
     },
     "execution_count": 9,
     "metadata": {},
     "output_type": "execute_result"
    }
   ],
   "source": [
    "# finding t_squared values and log values\n",
    "new_data[\"t\"] = np.arange(1,43)\n",
    "new_data[\"t_squared\"] = new_data[\"t\"]*new_data[\"t\"]\n",
    "new_data.columns\n",
    "new_data[\"log_Sales\"] = np.log(new_data[\"Sales\"])\n",
    "new_data.head()"
   ]
  },
  {
   "cell_type": "markdown",
   "id": "25bad1b2",
   "metadata": {},
   "source": [
    "# Visualizing the Time Series"
   ]
  },
  {
   "cell_type": "code",
   "execution_count": 11,
   "id": "d2e283d1",
   "metadata": {},
   "outputs": [
    {
     "data": {
      "text/plain": [
       "<Axes: xlabel='Quarter', ylabel='Sales'>"
      ]
     },
     "execution_count": 11,
     "metadata": {},
     "output_type": "execute_result"
    },
    {
     "data": {
      "image/png": "[encoded data removed]",
      "text/plain": [
       "<Figure size 800x600 with 1 Axes>"
      ]
     },
     "metadata": {},
     "output_type": "display_data"
    }
   ],
   "source": [
    "# Boxplot\n",
    "plt.figure(figsize = (8,6))\n",
    "sns.boxplot(x = \"Quarter\", y = \"Sales\", data = new_data)"
   ]
  },
  {
   "cell_type": "code",
   "execution_count": 12,
   "id": "c33e3707",
   "metadata": {},
   "outputs": [
    {
     "data": {
      "image/png": "[encoded data removed]",
      "text/plain": [
       "<Figure size 640x480 with 1 Axes>"
      ]
     },
     "metadata": {},
     "output_type": "display_data"
    }
   ],
   "source": [
    "data.plot()\n",
    "plt.show()"
   ]
  },
  {
   "cell_type": "code",
   "execution_count": 13,
   "id": "30ca6e9c",
   "metadata": {},
   "outputs": [
    {
     "data": {
      "image/png": "[encoded data removed]",
      "text/plain": [
       "<Figure size 640x480 with 1 Axes>"
      ]
     },
     "metadata": {},
     "output_type": "display_data"
    }
   ],
   "source": [
    "# lag plot to know the relationship\n",
    "lag_plot(new_data['Sales'])\n",
    "plt.title(\"Lag Plot\", size = 15, weight = \"bold\")\n",
    "plt.show()"
   ]
  },
  {
   "cell_type": "code",
   "execution_count": 14,
   "id": "0585a8b3",
   "metadata": {},
   "outputs": [
    {
     "data": {
      "image/png": "[encoded data removed]",
      "text/plain": [
       "<Figure size 640x480 with 1 Axes>"
      ]
     },
     "metadata": {},
     "output_type": "display_data"
    }
   ],
   "source": [
    "# AutoCorrelation Function plot\n",
    "plot_acf(new_data['Sales'], lags = 30, color = 'darkblue')          # plotting for k = 30 lags \n",
    "plt.xlabel(\"No of lags, k = 30\", size = 10)\n",
    "plt.ylabel(\"Autocorrelation (r2 value)\", size = 20)\n",
    "plt.show()"
   ]
  },
  {
   "cell_type": "code",
   "execution_count": 15,
   "id": "a3ecc5c9",
   "metadata": {},
   "outputs": [
    {
     "data": {
      "text/plain": [
       "<Axes: xlabel='Quarter', ylabel='Sales'>"
      ]
     },
     "execution_count": 15,
     "metadata": {},
     "output_type": "execute_result"
    },
    {
     "data": {
      "image/png": "[encoded data removed]",
      "text/plain": [
       "<Figure size 1200x300 with 1 Axes>"
      ]
     },
     "metadata": {},
     "output_type": "display_data"
    }
   ],
   "source": [
    "# plot lineplot with quarter and sales\n",
    "plt.figure(figsize = (12,3))\n",
    "sns.lineplot(x = \"Quarter\", y = \"Sales\", data = new_data)"
   ]
  },
  {
   "cell_type": "markdown",
   "id": "cdae94f0",
   "metadata": {},
   "source": [
    "# Splitting Data into train and test"
   ]
  },
  {
   "cell_type": "code",
   "execution_count": 16,
   "id": "597e45e9",
   "metadata": {},
   "outputs": [],
   "source": [
    "# Splitting Data into train and test\n",
    "train = new_data.head(29)\n",
    "test  = new_data.tail(12)"
   ]
  },
  {
   "cell_type": "code",
   "execution_count": 17,
   "id": "0af48dc8",
   "metadata": {},
   "outputs": [
    {
     "data": {
      "text/plain": [
       "((29, 9), (12, 9))"
      ]
     },
     "execution_count": 17,
     "metadata": {},
     "output_type": "execute_result"
    }
   ],
   "source": [
    "train.shape, test.shape"
   ]
  },
  {
   "cell_type": "markdown",
   "id": "c2dce093",
   "metadata": {},
   "source": [
    "# 1. Linear Model"
   ]
  },
  {
   "cell_type": "code",
   "execution_count": 18,
   "id": "95021587",
   "metadata": {},
   "outputs": [
    {
     "data": {
      "text/plain": [
       "808.7073724654331"
      ]
     },
     "execution_count": 18,
     "metadata": {},
     "output_type": "execute_result"
    }
   ],
   "source": [
    "import statsmodels.formula.api as smf \n",
    "#linear model\n",
    "\n",
    "linear = smf.ols('Sales~t',data=train).fit()\n",
    "pred_linear =  pd.Series(linear.predict(pd.DataFrame(test['t'])))\n",
    "rmse_linear = np.sqrt(np.mean((np.array(test['Sales'])-np.array(pred_linear))**2))\n",
    "rmse_linear"
   ]
  },
  {
   "cell_type": "markdown",
   "id": "56918917",
   "metadata": {},
   "source": [
    "# 2. Quadratic"
   ]
  },
  {
   "cell_type": "code",
   "execution_count": 19,
   "id": "c18057f5",
   "metadata": {},
   "outputs": [
    {
     "name": "stdout",
     "output_type": "stream",
     "text": [
      "Root Mean Square Error :  522.3073674097559\n"
     ]
    }
   ],
   "source": [
    "# quadratic model\n",
    "\n",
    "Quad = smf.ols('Sales~t+t_squared',data=train).fit() #quadratic model\n",
    "pred_Quad = pd.Series(Quad.predict(test[[\"t\",\"t_squared\"]]))\n",
    "rmse_Quad = np.sqrt(np.mean((np.array(test['Sales'])-np.array(pred_Quad))**2))\n",
    "print(\"Root Mean Square Error : \",rmse_Quad)"
   ]
  },
  {
   "cell_type": "markdown",
   "id": "e1ee1e63",
   "metadata": {},
   "source": [
    "# 3. Exponential"
   ]
  },
  {
   "cell_type": "code",
   "execution_count": 20,
   "id": "02bf96d7",
   "metadata": {},
   "outputs": [
    {
     "name": "stdout",
     "output_type": "stream",
     "text": [
      "Root Mean Square Error :  638.2398884287769\n"
     ]
    }
   ],
   "source": [
    "# exponential model\n",
    "\n",
    "Exp = smf.ols('log_Sales~t',data=train).fit() #exponential model\n",
    "pred_Exp = pd.Series(Exp.predict(pd.DataFrame(test['t'])))\n",
    "rmse_Exp = np.sqrt(np.mean((np.array(test['Sales'])-np.array(np.exp(pred_Exp)))**2))\n",
    "print(\"Root Mean Square Error : \",rmse_Exp)"
   ]
  },
  {
   "cell_type": "markdown",
   "id": "8a398054",
   "metadata": {},
   "source": [
    "# 4. Additive Seasonality"
   ]
  },
  {
   "cell_type": "code",
   "execution_count": 21,
   "id": "e74024f2",
   "metadata": {},
   "outputs": [
    {
     "name": "stdout",
     "output_type": "stream",
     "text": [
      "Root Mean Square Error :  1825.6996837161034\n"
     ]
    }
   ],
   "source": [
    "# additive seasonality\n",
    "add_sea = smf.ols('Sales~Quarter_Q1+Quarter_Q2+Quarter_Q3+Quarter_Q4',data=train).fit() #additive seasonality model\n",
    "pred_add_sea = pd.Series(add_sea.predict(test[['Quarter_Q1','Quarter_Q2','Quarter_Q3','Quarter_Q4']]))\n",
    "rmse_add_sea = np.sqrt(np.mean((np.array(test['Sales'])-np.array(pred_add_sea))**2))\n",
    "print(\"Root Mean Square Error : \",rmse_add_sea)"
   ]
  },
  {
   "cell_type": "markdown",
   "id": "2c186cf6",
   "metadata": {},
   "source": [
    "# 5. Additive seasonality with quadratic trend"
   ]
  },
  {
   "cell_type": "code",
   "execution_count": 23,
   "id": "71bfe2a8",
   "metadata": {},
   "outputs": [
    {
     "name": "stdout",
     "output_type": "stream",
     "text": [
      "Root Mean Square Error :  593.2706704101386\n"
     ]
    }
   ],
   "source": [
    "# additive seasonality with quadratic trend\n",
    "add_sea_quad = smf.ols('Sales~t+t_squared+Quarter_Q1+Quarter_Q2+Quarter_Q3+Quarter_Q4',data=train).fit() #additive seasonality qudratic model\n",
    "pred_add_sea_quad = pd.Series(add_sea_quad.predict(test[['t','t_squared','Quarter_Q1','Quarter_Q2','Quarter_Q3','Quarter_Q4']]))\n",
    "rmse_add_sea_quad = np.sqrt(np.mean((np.array(test['Sales'])-np.array(pred_add_sea_quad))**2))\n",
    "print(\"Root Mean Square Error : \",rmse_add_sea_quad)"
   ]
  },
  {
   "cell_type": "markdown",
   "id": "5c54f37f",
   "metadata": {},
   "source": [
    "# 6. Multiplicative Seasonality"
   ]
  },
  {
   "cell_type": "code",
   "execution_count": 24,
   "id": "bc36943d",
   "metadata": {},
   "outputs": [
    {
     "name": "stdout",
     "output_type": "stream",
     "text": [
      "Root Mean Square Error :  1869.6395085708918\n"
     ]
    }
   ],
   "source": [
    "# multiplicative seasonality\n",
    "Mul_sea = smf.ols('log_Sales~Quarter_Q1+Quarter_Q2+Quarter_Q3+Quarter_Q4',data = train).fit() #multiplicative seasonality model\n",
    "pred_Mult_sea = pd.Series(Mul_sea.predict(test))\n",
    "rmse_Mult_sea = np.sqrt(np.mean((np.array(test['Sales'])-np.array(np.exp(pred_Mult_sea)))**2))\n",
    "print(\"Root Mean Square Error : \",rmse_Mult_sea)"
   ]
  },
  {
   "cell_type": "markdown",
   "id": "7ae38503",
   "metadata": {},
   "source": [
    "# 7. Multiplicative Additive Seasonality"
   ]
  },
  {
   "cell_type": "code",
   "execution_count": 25,
   "id": "20ece627",
   "metadata": {},
   "outputs": [
    {
     "name": "stdout",
     "output_type": "stream",
     "text": [
      "Root Mean Square Error :  462.887020818648\n"
     ]
    }
   ],
   "source": [
    "# multiplicative additive seasonality\n",
    "Mul_Add_sea = smf.ols('log_Sales~t+Quarter_Q1+Quarter_Q2+Quarter_Q3+Quarter_Q4',data = train).fit() #multiplicative additive seasonality\n",
    "pred_Mult_add_sea = pd.Series(Mul_Add_sea.predict(test))\n",
    "rmse_Mult_add_sea = np.sqrt(np.mean((np.array(test['Sales'])-np.array(np.exp(pred_Mult_add_sea)))**2))\n",
    "print(\"Root Mean Square Error : \",rmse_Mult_add_sea) "
   ]
  },
  {
   "cell_type": "markdown",
   "id": "4df6fccb",
   "metadata": {},
   "source": [
    "# Final RMSE values"
   ]
  },
  {
   "cell_type": "code",
   "execution_count": 27,
   "id": "81c55a79",
   "metadata": {},
   "outputs": [
    {
     "data": {
      "text/html": [
       "<div>\n",
       "<style scoped>\n",
       "    .dataframe tbody tr th:only-of-type {\n",
       "        vertical-align: middle;\n",
       "    }\n",
       "\n",
       "    .dataframe tbody tr th {\n",
       "        vertical-align: top;\n",
       "    }\n",
       "\n",
       "    .dataframe thead th {\n",
       "        text-align: right;\n",
       "    }\n",
       "</style>\n",
       "<table border=\"1\" class=\"dataframe\">\n",
       "  <thead>\n",
       "    <tr style=\"text-align: right;\">\n",
       "      <th></th>\n",
       "      <th>MODEL</th>\n",
       "      <th>RMSE_Values</th>\n",
       "    </tr>\n",
       "  </thead>\n",
       "  <tbody>\n",
       "    <tr>\n",
       "      <th>6</th>\n",
       "      <td>rmse_Mult_add_sea</td>\n",
       "      <td>462.887021</td>\n",
       "    </tr>\n",
       "    <tr>\n",
       "      <th>2</th>\n",
       "      <td>rmse_Quad</td>\n",
       "      <td>522.307367</td>\n",
       "    </tr>\n",
       "    <tr>\n",
       "      <th>4</th>\n",
       "      <td>rmse_add_sea_quad</td>\n",
       "      <td>593.270670</td>\n",
       "    </tr>\n",
       "    <tr>\n",
       "      <th>1</th>\n",
       "      <td>rmse_Exp</td>\n",
       "      <td>638.239888</td>\n",
       "    </tr>\n",
       "    <tr>\n",
       "      <th>0</th>\n",
       "      <td>rmse_linear</td>\n",
       "      <td>808.707372</td>\n",
       "    </tr>\n",
       "    <tr>\n",
       "      <th>3</th>\n",
       "      <td>rmse_add_sea</td>\n",
       "      <td>1825.699684</td>\n",
       "    </tr>\n",
       "    <tr>\n",
       "      <th>5</th>\n",
       "      <td>rmse_Mult_sea</td>\n",
       "      <td>1869.639509</td>\n",
       "    </tr>\n",
       "  </tbody>\n",
       "</table>\n",
       "</div>"
      ],
      "text/plain": [
       "               MODEL  RMSE_Values\n",
       "6  rmse_Mult_add_sea   462.887021\n",
       "2          rmse_Quad   522.307367\n",
       "4  rmse_add_sea_quad   593.270670\n",
       "1           rmse_Exp   638.239888\n",
       "0        rmse_linear   808.707372\n",
       "3       rmse_add_sea  1825.699684\n",
       "5      rmse_Mult_sea  1869.639509"
      ]
     },
     "execution_count": 27,
     "metadata": {},
     "output_type": "execute_result"
    }
   ],
   "source": [
    "# tabuling rmes value\n",
    "Final_data = {\"MODEL\":pd.Series([\"rmse_linear\",\"rmse_Exp\",\"rmse_Quad\",\"rmse_add_sea\",\"rmse_add_sea_quad\",\"rmse_Mult_sea\",\"rmse_Mult_add_sea\"]),\"RMSE_Values\":pd.Series([rmse_linear,rmse_Exp,rmse_Quad,rmse_add_sea,rmse_add_sea_quad,rmse_Mult_sea,rmse_Mult_add_sea])}\n",
    "Final_result = pd.DataFrame(Final_data)\n",
    "Final_result.sort_values(['RMSE_Values'])"
   ]
  },
  {
   "cell_type": "code",
   "execution_count": 29,
   "id": "9ec48e36",
   "metadata": {},
   "outputs": [
    {
     "data": {
      "text/plain": [
       "count       7.000000\n",
       "mean      960.107359\n",
       "std       615.966109\n",
       "min       462.887021\n",
       "25%       557.789019\n",
       "50%       638.239888\n",
       "75%      1317.203528\n",
       "max      1869.639509\n",
       "dtype: float64"
      ]
     },
     "execution_count": 29,
     "metadata": {},
     "output_type": "execute_result"
    }
   ],
   "source": [
    "# descriptive/statistical information\n",
    "Final_data['RMSE_Values'].describe()"
   ]
  },
  {
   "cell_type": "code",
   "execution_count": 33,
   "id": "d7c396ef",
   "metadata": {},
   "outputs": [
    {
     "data": {
      "text/plain": [
       "379414.2469463717"
      ]
     },
     "execution_count": 33,
     "metadata": {},
     "output_type": "execute_result"
    }
   ],
   "source": [
    "Final_data['RMSE_Values'].var()"
   ]
  },
  {
   "cell_type": "code",
   "execution_count": 30,
   "id": "09744b42",
   "metadata": {},
   "outputs": [
    {
     "data": {
      "text/html": [
       "<div>\n",
       "<style scoped>\n",
       "    .dataframe tbody tr th:only-of-type {\n",
       "        vertical-align: middle;\n",
       "    }\n",
       "\n",
       "    .dataframe tbody tr th {\n",
       "        vertical-align: top;\n",
       "    }\n",
       "\n",
       "    .dataframe thead th {\n",
       "        text-align: right;\n",
       "    }\n",
       "</style>\n",
       "<table border=\"1\" class=\"dataframe\">\n",
       "  <thead>\n",
       "    <tr style=\"text-align: right;\">\n",
       "      <th></th>\n",
       "      <th>Quarter</th>\n",
       "      <th>Sales</th>\n",
       "    </tr>\n",
       "  </thead>\n",
       "  <tbody>\n",
       "    <tr>\n",
       "      <th>0</th>\n",
       "      <td>Q1</td>\n",
       "      <td>1734.827000</td>\n",
       "    </tr>\n",
       "    <tr>\n",
       "      <th>1</th>\n",
       "      <td>Q2</td>\n",
       "      <td>2244.960999</td>\n",
       "    </tr>\n",
       "    <tr>\n",
       "      <th>2</th>\n",
       "      <td>Q3</td>\n",
       "      <td>2533.804993</td>\n",
       "    </tr>\n",
       "  </tbody>\n",
       "</table>\n",
       "</div>"
      ],
      "text/plain": [
       "  Quarter        Sales\n",
       "0      Q1  1734.827000\n",
       "1      Q2  2244.960999\n",
       "2      Q3  2533.804993"
      ]
     },
     "execution_count": 30,
     "metadata": {},
     "output_type": "execute_result"
    }
   ],
   "source": [
    "# import dataset for making model with rmes\n",
    "data_Predict = pd.read_excel(r\"C:\\Users\\mukes\\OneDrive\\Desktop\\Data Science\\Assignments\\Forecasting\\CocaCola_Sales_Rawdata.xlsx\")\n",
    "data.head(3)"
   ]
  },
  {
   "cell_type": "code",
   "execution_count": 31,
   "id": "9df05d87",
   "metadata": {},
   "outputs": [],
   "source": [
    "# final model with least rmse value\n",
    "Final_pred = smf.ols('log_Sales~t+Quarter_Q1+Quarter_Q2+Quarter_Q3+Quarter_Q4',data=new_data).fit()"
   ]
  },
  {
   "cell_type": "code",
   "execution_count": 32,
   "id": "9d8025f1",
   "metadata": {},
   "outputs": [
    {
     "data": {
      "text/plain": [
       "0    7.339224\n",
       "1    7.579747\n",
       "2    7.571328\n",
       "3    7.491254\n",
       "4    7.435892\n",
       "dtype: float64"
      ]
     },
     "execution_count": 32,
     "metadata": {},
     "output_type": "execute_result"
    }
   ],
   "source": [
    "pred_new  = pd.Series(Final_pred.predict(new_data))\n",
    "pred_new.head()"
   ]
  },
  {
   "cell_type": "markdown",
   "id": "3db51491",
   "metadata": {},
   "source": [
    "Models Used:\n",
    "1. Linear\n",
    "2. Quadratic\n",
    "3. Exponential\n",
    "4. Additive Seasonality\n",
    "5. Additive seasonality with quadratic trend\n",
    "6. Multiplicative seasonality\n",
    "7. Multiplicative additive seasonality\n",
    "\n",
    "Therefore, comparing all the RMSE values, it is found that- \n",
    "1. The RMSE value of Multiplicative additive seasonality is found to be the least one.\n",
    "2. It gives a proper idea that the model has the least error among all other models.\n",
    "3. It ensures that the model has the highest accuracy among all other models.\n",
    "4. Dummies used: Quarter_Q1, Quarter_Q2, Quarter_Q3, Quarter_Q4\n",
    "5. Total Dummies used: 4 dummies used"
   ]
  },
  {
   "cell_type": "markdown",
   "id": "55ae5678",
   "metadata": {},
   "source": [
    "Conclusion:\n",
    "1. Airlines dataset has got 96 samples and Cocacola with 42 samples.\n",
    "2. Same Models are used for both the dataset and estimated the RMSE values for the same.\n",
    "3. Airlines dataset has got 12 dummies and Cocacola dataset has got 4 dummies.\n",
    "4. Airlines dataset has got the final RMSE mean of 0.23 and var of 0.049.\n",
    "5. Cocacola dataset has got the final RMSE average mean of 960.10 and very high Variance.\n",
    "6. Therefore, we can conclude saying that the Airlines dataset is much better model for forecasting than the Cocacola dataset due to low variance in the Airlines dataset. \n",
    "7. Low variance can predict relatively stable and not sensitive to small changes in the training data."
   ]
  },
  {
   "cell_type": "code",
   "execution_count": null,
   "id": "c77f2a77",
   "metadata": {},
   "outputs": [],
   "source": []
  }
 ],
 "metadata": {
  "kernelspec": {
   "display_name": "Python 3 (ipykernel)",
   "language": "python",
   "name": "python3"
  },
  "language_info": {
   "codemirror_mode": {
    "name": "ipython",
    "version": 3
   },
   "file_extension": ".py",
   "mimetype": "text/x-python",
   "name": "python",
   "nbconvert_exporter": "python",
   "pygments_lexer": "ipython3",
   "version": "3.10.9"
  }
 },
 "nbformat": 4,
 "nbformat_minor": 5
}
